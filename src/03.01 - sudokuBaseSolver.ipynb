{
 "cells": [
  {
   "attachments": {},
   "cell_type": "markdown",
   "metadata": {},
   "source": [
    "# Basic implementation\n",
    "\n",
    "Author: Frankie Inguanez <br />\n",
    "Date: 13/01/2023<br /><br />\n",
    "\n",
    "A base implementation of a 9x9 sudoku puzzle, that does a raster scan (left to right, top to bottom) to search for an unknown cell, with an ordered guess. This algorithm is a backtracking (brute-force) algorithm."
   ]
  },
  {
   "cell_type": "code",
   "execution_count": 7,
   "metadata": {},
   "outputs": [],
   "source": [
    "def to2DArray(n):\n",
    "    \"\"\"\n",
    "    Convert a string to a 2D 9x9 array.\n",
    "    Arguments:\n",
    "        n: an 81 character string to be converted to a 2D array representing a 9x9 sudoku grid.\n",
    "    \"\"\"\n",
    "    return [list(map(int, n[i:i+9])) for i in range(0, 81, 9)]\n",
    "\n",
    "def toStr(puzzle):\n",
    "    \"\"\"\n",
    "    Converts a puzzle to a string\n",
    "    Arguments:\n",
    "        puzzle: A 2D array with a 9x9 sudoku grid.\n",
    "    \"\"\"\n",
    "    r = \"\"\n",
    "\n",
    "    for row in puzzle:\n",
    "        r += \"\".join(map(str, row))\n",
    "\n",
    "    return r\n",
    "\n",
    "def getColValues(puzzle, col):\n",
    "    \"\"\"\n",
    "    Get column values\n",
    "    Arguments:\n",
    "        puzzle: A 2D array with a 9x9 sudoku grid.\n",
    "        col: the column number\n",
    "    \"\"\"\n",
    "    lst = []\n",
    "    for row in puzzle:\n",
    "        lst.append(row[col])\n",
    "\n",
    "    return lst\n",
    "\n",
    "def getBoxValues(puzzle, box):\n",
    "    \"\"\"\n",
    "    Get box values. Boxes are 3x3 sub-grids enumerates from top left in a raster fashion\n",
    "    0, 1, 2\n",
    "    3, 4, 5\n",
    "    6, 7, 8\n",
    "    Arguments:\n",
    "        puzzle: A 2D array with a 9x9 sudoku grid.\n",
    "        box: the box number\n",
    "    \"\"\"\n",
    "    \n",
    "    return [puzzle[x][y] for x in range((box//3)*3,((box//3)*3)+3) for y in range((box%3)*3, ((box%3)*3)+3)]\n",
    "\n",
    "def checkList(lst):\n",
    "    \"\"\"\n",
    "    Check if a list of digits contain all values from 1 to 9\n",
    "    Arguments:\n",
    "        lst: the list to check.\n",
    "    \"\"\"\n",
    "    return set(lst) == set(range(1,10))\n",
    "\n",
    "def isSolved(puzzle):\n",
    "    \"\"\"\n",
    "    Checks if a 9x9 sudoku puzzle has been solved.\n",
    "    Arguments:\n",
    "        puzzle: A 2D array with a 9x9 sudoku grid.\n",
    "    \"\"\"\n",
    "    # Check rows\n",
    "    for row in puzzle:\n",
    "        if not checkList(row):\n",
    "            return False\n",
    "\n",
    "    # Check columns\n",
    "    for i in range(0,9):\n",
    "        if not checkList(getColValues(puzzle, i)):\n",
    "            return False;\n",
    "\n",
    "    # Check box\n",
    "    for i in range(0,9):\n",
    "        if not checkList(getBoxValues(puzzle, i)):\n",
    "            return False;\n",
    "\n",
    "    return True\n",
    "\n",
    "def isValid(puzzle, num, pos):\n",
    "    \"\"\"\n",
    "    Checks if a number can be added to a specific position\n",
    "    Arguments:\n",
    "        puzzle: A 2D array with a 9x9 sudoku grid.\n",
    "        num: the number to be inserted\n",
    "        pos: the row and column position to be considered.\n",
    "    \"\"\"\n",
    "\n",
    "    # Check the row\n",
    "    for i in range(len(puzzle[0])):\n",
    "        if puzzle[pos[0]][i]==num and pos[1] != i:\n",
    "            return False\n",
    "\n",
    "    # Check the column\n",
    "    for i in range(len(puzzle[1])):\n",
    "        if puzzle[i][pos[1]]==num and pos[0] != i:\n",
    "            return False\n",
    "\n",
    "    # Check box\n",
    "    box_x = pos[1] // 3\n",
    "    box_y = pos[0] // 3\n",
    "\n",
    "    for i in range(box_y*3, box_y*3 + 3):\n",
    "        for j in range(box_x * 3, box_x*3 + 3):\n",
    "            if puzzle[i][j] == num and (i,j) != pos:\n",
    "                return False\n",
    "\n",
    "    return True\n",
    "\n",
    "def getFileLineCount(fileName: str):\n",
    "    \"\"\"\n",
    "    Get number of lines in a file.\n",
    "    Arguments:\n",
    "        fileName: the name of the file to process.\n",
    "    \"\"\"\n",
    "    import mmap\n",
    "\n",
    "    lines = 0\n",
    "    with open(fileName, \"r+\", encoding=\"utf-8\") as f:\n",
    "        bf = mmap.mmap(f.fileno(), 0)\n",
    "\n",
    "        while bf.readline():\n",
    "            lines += 1\n",
    "\n",
    "    return lines\n",
    "\n",
    "def saveError(error, errorsFileName: str):\n",
    "    \"\"\"\n",
    "    Saves an error/exception that is raised.\n",
    "    Arguments:\n",
    "        error: the Exception that is raised.\n",
    "        errorsFileName: the file name where the error will be saved.\n",
    "    \"\"\"\n",
    "    try:\n",
    "        with open(errorsFileName, \"a\", encoding=\"utf-8\") as ef:\n",
    "            ef.write(\"Encountered error:\\n{}\\n{}\\n{}\\n\\n\".format(type(error), error.args, error))\n",
    "    except Exception as e:\n",
    "        # Failed to save error to file\n",
    "        print(\"Failed to save original error to file due to:\\n{}\\n{}\\n{}\\n\\n\".format(type(e), e.args, e))\n",
    "        print(\"Original error:\\n{}\\n{}\\n{}\\n\\n\".format(type(error), error.args, error))"
   ]
  },
  {
   "cell_type": "code",
   "execution_count": 8,
   "metadata": {},
   "outputs": [],
   "source": [
    "# Finds the next empty cell in a raster fashion.\n",
    "def findRaster(puzzle):\n",
    "    for row in range(len(puzzle)):\n",
    "        for col in range(len(puzzle[0])):\n",
    "            if puzzle[row][col] == 0:\n",
    "                return (row, col)\n",
    "            \n",
    "    return None"
   ]
  },
  {
   "cell_type": "code",
   "execution_count": 9,
   "metadata": {},
   "outputs": [],
   "source": [
    "# Solves a sudoku 9x9 puzzle in a raster pattern using sequential brute force guessing.\n",
    "def solveRaster(puzzle):\n",
    "    find = findRaster(puzzle)\n",
    "\n",
    "    if not find:\n",
    "        return True\n",
    "    else:\n",
    "        row, col = find\n",
    "\n",
    "    for i in range(1,10):\n",
    "        if isValid(puzzle, i, (row, col)):\n",
    "            puzzle[row][col] = i\n",
    "\n",
    "            if solveRaster(puzzle):\n",
    "                return True\n",
    "\n",
    "            puzzle[row][col] = 0\n",
    "\n",
    "    return False"
   ]
  },
  {
   "cell_type": "code",
   "execution_count": 10,
   "metadata": {},
   "outputs": [
    {
     "name": "stdout",
     "output_type": "stream",
     "text": [
      "Solved puzzle!\n"
     ]
    },
    {
     "data": {
      "text/plain": [
       "[[1, 3, 7, 4, 6, 8, 5, 2, 9],\n",
       " [2, 5, 8, 3, 1, 9, 4, 7, 6],\n",
       " [4, 6, 9, 5, 7, 2, 1, 8, 3],\n",
       " [6, 1, 2, 7, 3, 4, 9, 5, 8],\n",
       " [3, 8, 5, 9, 2, 1, 6, 4, 7],\n",
       " [7, 9, 4, 6, 8, 5, 3, 1, 2],\n",
       " [5, 7, 6, 2, 4, 3, 8, 9, 1],\n",
       " [9, 2, 1, 8, 5, 6, 7, 3, 4],\n",
       " [8, 4, 3, 1, 9, 7, 2, 6, 5]]"
      ]
     },
     "execution_count": 10,
     "metadata": {},
     "output_type": "execute_result"
    }
   ],
   "source": [
    "puzzle = to2DArray('100008509000000000460000000600000000085020047094600302000003090920000700000107005')\n",
    "\n",
    "print(\"Solved puzzle!\" if solveRaster(puzzle) else \"Could not solve puzzle\")\n",
    "puzzle"
   ]
  },
  {
   "cell_type": "code",
   "execution_count": 11,
   "metadata": {},
   "outputs": [],
   "source": [
    "def solvePuzzles(puzzlesFileName, statsFileName, errorsFileName, limit):\n",
    "    import tqdm\n",
    "\n",
    "    if not limit:\n",
    "        limit = getFileLineCount(puzzlesFileName)\n",
    "\n",
    "    i = 0\n",
    "    hasError = False\n",
    "    try:\n",
    "        print(\"Starting sudoku base solver.\")\n",
    "        \n",
    "        with open(statsFileName, \"w\", encoding=\"utf-8\") as sf:\n",
    "            with open(puzzlesFileName, \"r\", encoding=\"utf-8\") as pf:\n",
    "                for line in tqdm.tqdm(pf, total=limit):\n",
    "                    # Parse the content\n",
    "                    p = line.strip()\n",
    "\n",
    "                    puzzle = to2DArray(p)\n",
    "\n",
    "                    if not solveRaster(puzzle):\n",
    "                        sf.write(\"Could not solve puzzle {}\".format(line))\n",
    "\n",
    "                    i+=1\n",
    "\n",
    "                    if (i>limit):\n",
    "                        break\n",
    "\n",
    "    except Exception as e:\n",
    "        hasError = True\n",
    "        saveError(e, errorsFileName)\n",
    "\n",
    "    print(\"Operation encountered some errors. Check {} for details or script output above.\".format(errorsFileName) \\\n",
    "        if hasError else \"Sudoku puzzles solved completed successfully.\")\n",
    "    print(\"Sudoku solver statistics saved in {}\".format(statsFileName))\n"
   ]
  },
  {
   "cell_type": "code",
   "execution_count": 12,
   "metadata": {},
   "outputs": [
    {
     "name": "stdout",
     "output_type": "stream",
     "text": [
      "Starting sudoku base solver.\n"
     ]
    },
    {
     "name": "stderr",
     "output_type": "stream",
     "text": [
      "100%|██████████| 2/2 [00:00<00:00, 342.99it/s]"
     ]
    },
    {
     "name": "stdout",
     "output_type": "stream",
     "text": [
      "Sudoku puzzles solved completed successfully.\n",
      "Sudoku solver statistics saved in solverStats.txt\n"
     ]
    },
    {
     "name": "stderr",
     "output_type": "stream",
     "text": [
      "\n"
     ]
    }
   ],
   "source": [
    "solvePuzzles(\"puzzles.txt\",\"solverStats.txt\", \"solverErrors.txt\",2)"
   ]
  }
 ],
 "metadata": {
  "kernelspec": {
   "display_name": "sudoku",
   "language": "python",
   "name": "python3"
  },
  "language_info": {
   "codemirror_mode": {
    "name": "ipython",
    "version": 3
   },
   "file_extension": ".py",
   "mimetype": "text/x-python",
   "name": "python",
   "nbconvert_exporter": "python",
   "pygments_lexer": "ipython3",
   "version": "3.10.8 | packaged by conda-forge | (main, Nov 24 2022, 14:07:00) [MSC v.1916 64 bit (AMD64)]"
  },
  "orig_nbformat": 4,
  "vscode": {
   "interpreter": {
    "hash": "615e879b812eb291a647d5ad8660ec074c290f753c91a47ae0e19b40ce7bb72e"
   }
  }
 },
 "nbformat": 4,
 "nbformat_minor": 2
}
