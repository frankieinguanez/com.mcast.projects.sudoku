{
 "cells": [
  {
   "attachments": {},
   "cell_type": "markdown",
   "metadata": {},
   "source": [
    "# Dataset evaluation\n",
    "\n",
    "Author: Frankie Inguanez <br/>\n",
    "Date: 15/01/2023<br/><br/>\n",
    "\n",
    "An evaluation of the dataset"
   ]
  },
  {
   "cell_type": "code",
   "execution_count": 21,
   "metadata": {},
   "outputs": [],
   "source": [
    "# Import packages and variable declaration\n",
    "import tqdm\n",
    "import sudokuPuzzleUtils as spu\n",
    "\n",
    "puzzlesFileName = \"sudokuDataset.csv\""
   ]
  },
  {
   "cell_type": "code",
   "execution_count": 22,
   "metadata": {},
   "outputs": [
    {
     "name": "stderr",
     "output_type": "stream",
     "text": [
      "100%|██████████| 8400/8400 [00:00<00:00, 696466.55it/s]\n"
     ]
    }
   ],
   "source": [
    "# Prepare the dictionary\n",
    "zeros = {}\n",
    "for i in range(0,81):\n",
    "    zeros[i] = 0\n",
    "\n",
    "# Read the puzzles file\n",
    "with open(puzzlesFileName, \"r\", encoding=\"utf-8\") as pf:\n",
    "    for line in tqdm.tqdm(pf, total=spu.getFileLineCount(puzzlesFileName)):\n",
    "        # Parse the content\n",
    "        data = line.split(',')\n",
    "        puzzle = data[1].strip()\n",
    "\n",
    "        # Count the number of zeros\n",
    "        zeroCount = puzzle.count('0')\n",
    "        zeros[zeroCount] += 1      "
   ]
  },
  {
   "cell_type": "code",
   "execution_count": 24,
   "metadata": {},
   "outputs": [
    {
     "data": {
      "text/plain": [
       "{0: 0,\n",
       " 1: 0,\n",
       " 2: 0,\n",
       " 3: 0,\n",
       " 4: 0,\n",
       " 5: 0,\n",
       " 6: 0,\n",
       " 7: 0,\n",
       " 8: 0,\n",
       " 9: 0,\n",
       " 10: 0,\n",
       " 11: 0,\n",
       " 12: 0,\n",
       " 13: 0,\n",
       " 14: 0,\n",
       " 15: 0,\n",
       " 16: 0,\n",
       " 17: 0,\n",
       " 18: 0,\n",
       " 19: 0,\n",
       " 20: 0,\n",
       " 21: 0,\n",
       " 22: 0,\n",
       " 23: 0,\n",
       " 24: 0,\n",
       " 25: 0,\n",
       " 26: 0,\n",
       " 27: 0,\n",
       " 28: 0,\n",
       " 29: 0,\n",
       " 30: 0,\n",
       " 31: 0,\n",
       " 32: 0,\n",
       " 33: 0,\n",
       " 34: 0,\n",
       " 35: 0,\n",
       " 36: 3,\n",
       " 37: 11,\n",
       " 38: 22,\n",
       " 39: 67,\n",
       " 40: 109,\n",
       " 41: 128,\n",
       " 42: 137,\n",
       " 43: 251,\n",
       " 44: 171,\n",
       " 45: 249,\n",
       " 46: 203,\n",
       " 47: 164,\n",
       " 48: 290,\n",
       " 49: 744,\n",
       " 50: 826,\n",
       " 51: 466,\n",
       " 52: 437,\n",
       " 53: 615,\n",
       " 54: 725,\n",
       " 55: 1594,\n",
       " 56: 862,\n",
       " 57: 302,\n",
       " 58: 23,\n",
       " 59: 1,\n",
       " 60: 0,\n",
       " 61: 0,\n",
       " 62: 0,\n",
       " 63: 0,\n",
       " 64: 0,\n",
       " 65: 0,\n",
       " 66: 0,\n",
       " 67: 0,\n",
       " 68: 0,\n",
       " 69: 0,\n",
       " 70: 0,\n",
       " 71: 0,\n",
       " 72: 0,\n",
       " 73: 0,\n",
       " 74: 0,\n",
       " 75: 0,\n",
       " 76: 0,\n",
       " 77: 0,\n",
       " 78: 0,\n",
       " 79: 0,\n",
       " 80: 0}"
      ]
     },
     "execution_count": 24,
     "metadata": {},
     "output_type": "execute_result"
    }
   ],
   "source": [
    "zeros"
   ]
  },
  {
   "cell_type": "code",
   "execution_count": 25,
   "metadata": {},
   "outputs": [],
   "source": [
    "stats = {}\n",
    "for i in range(0,81):\n",
    "    if zeros[i]==0:\n",
    "        continue\n",
    "\n",
    "    stats[i]=zeros[i]"
   ]
  },
  {
   "cell_type": "code",
   "execution_count": 26,
   "metadata": {},
   "outputs": [
    {
     "data": {
      "text/plain": [
       "{36: 3,\n",
       " 37: 11,\n",
       " 38: 22,\n",
       " 39: 67,\n",
       " 40: 109,\n",
       " 41: 128,\n",
       " 42: 137,\n",
       " 43: 251,\n",
       " 44: 171,\n",
       " 45: 249,\n",
       " 46: 203,\n",
       " 47: 164,\n",
       " 48: 290,\n",
       " 49: 744,\n",
       " 50: 826,\n",
       " 51: 466,\n",
       " 52: 437,\n",
       " 53: 615,\n",
       " 54: 725,\n",
       " 55: 1594,\n",
       " 56: 862,\n",
       " 57: 302,\n",
       " 58: 23,\n",
       " 59: 1}"
      ]
     },
     "execution_count": 26,
     "metadata": {},
     "output_type": "execute_result"
    }
   ],
   "source": [
    "stats"
   ]
  },
  {
   "cell_type": "code",
   "execution_count": 30,
   "metadata": {},
   "outputs": [
    {
     "data": {
      "image/png": "[encoded data removed]",
      "text/plain": [
       "<Figure size 640x480 with 1 Axes>"
      ]
     },
     "metadata": {},
     "output_type": "display_data"
    }
   ],
   "source": [
    "from matplotlib import pyplot as plt\n",
    "\n",
    "plt.bar(range(len(stats)), list(stats.values()), align='center')\n",
    "plt.xticks(range(len(stats)), list(stats.keys()))\n",
    "plt.xlabel(\"Number of zeros\")\n",
    "plt.ylabel(\"Puzzle count\")\n",
    "plt.title(\"Dataset evaluation\")\n",
    "\n",
    "plt.show()"
   ]
  }
 ],
 "metadata": {
  "kernelspec": {
   "display_name": "sudoku",
   "language": "python",
   "name": "python3"
  },
  "language_info": {
   "codemirror_mode": {
    "name": "ipython",
    "version": 3
   },
   "file_extension": ".py",
   "mimetype": "text/x-python",
   "name": "python",
   "nbconvert_exporter": "python",
   "pygments_lexer": "ipython3",
   "version": "3.10.9"
  },
  "orig_nbformat": 4,
  "vscode": {
   "interpreter": {
    "hash": "1fa4100ae67b3ce4a33c20afdbe5cffef15defc525c61da60f3d0ff851893932"
   }
  }
 },
 "nbformat": 4,
 "nbformat_minor": 2
}
