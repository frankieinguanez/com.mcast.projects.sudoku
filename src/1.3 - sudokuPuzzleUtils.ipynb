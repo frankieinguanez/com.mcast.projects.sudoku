{
 "cells": [
  {
   "attachments": {},
   "cell_type": "markdown",
   "metadata": {},
   "source": [
    "# Data cleaning\n",
    "\n",
    "Author: Frankie Inguanez <br />\n",
    "Date: 13/01/2023<br /><br />\n",
    "\n",
    "A series of utility functions to clean and check a sudoku puzzle."
   ]
  },
  {
   "cell_type": "code",
   "execution_count": 48,
   "metadata": {},
   "outputs": [],
   "source": [
    "# Convert a string to a 2D 9x9 array.\n",
    "def to2DArray(n):\n",
    "    return [list(map(int, n[i:i+9])) for i in range(0, 81, 9)]"
   ]
  },
  {
   "cell_type": "code",
   "execution_count": 49,
   "metadata": {},
   "outputs": [],
   "source": [
    "# Get column values\n",
    "def getColValues(puzzle, col):\n",
    "    lst = []\n",
    "    for row in puzzle:\n",
    "        lst.append(row[col])\n",
    "\n",
    "    return lst"
   ]
  },
  {
   "cell_type": "code",
   "execution_count": 50,
   "metadata": {},
   "outputs": [],
   "source": [
    "# Get box values. Boxes are 3x3 sub-grids enumerates from top left in a raster fashion\n",
    "# 0, 1, 2\n",
    "# 3, 4, 5\n",
    "# 6, 7, 8\n",
    "def getBoxValues(puzzle, box):\n",
    "    return [puzzle[x][y] for x in range((box//3)*3,((box//3)*3)+3) for y in range((box%3)*3, ((box%3)*3)+3)]"
   ]
  },
  {
   "cell_type": "code",
   "execution_count": 51,
   "metadata": {},
   "outputs": [
    {
     "data": {
      "text/plain": [
       "[[2, 0, 7, 4, 0, 8, 6, 0, 9],\n",
       " [1, 0, 0, 0, 9, 0, 0, 0, 7],\n",
       " [0, 0, 0, 0, 7, 0, 0, 0, 0],\n",
       " [3, 7, 0, 6, 0, 2, 0, 9, 8],\n",
       " [6, 0, 0, 0, 0, 0, 0, 0, 1],\n",
       " [5, 8, 0, 7, 1, 9, 0, 6, 3],\n",
       " [8, 0, 0, 5, 2, 4, 0, 0, 6],\n",
       " [0, 0, 5, 0, 6, 0, 8, 0, 0],\n",
       " [9, 0, 6, 8, 3, 7, 1, 0, 2]]"
      ]
     },
     "execution_count": 51,
     "metadata": {},
     "output_type": "execute_result"
    }
   ],
   "source": [
    "puzzle = to2DArray('207408609100090007000070000370602098600000001580719063800524006005060800906837102')\n",
    "puzzle"
   ]
  },
  {
   "cell_type": "code",
   "execution_count": 52,
   "metadata": {},
   "outputs": [
    {
     "data": {
      "text/plain": [
       "[1, 0, 0, 0, 9, 0, 0, 0, 7]"
      ]
     },
     "execution_count": 52,
     "metadata": {},
     "output_type": "execute_result"
    }
   ],
   "source": [
    "puzzle[1]"
   ]
  },
  {
   "cell_type": "code",
   "execution_count": 53,
   "metadata": {},
   "outputs": [
    {
     "data": {
      "text/plain": [
       "[0, 0, 0, 7, 0, 8, 0, 0, 0]"
      ]
     },
     "execution_count": 53,
     "metadata": {},
     "output_type": "execute_result"
    }
   ],
   "source": [
    "getColValues(puzzle, 1)"
   ]
  },
  {
   "cell_type": "code",
   "execution_count": 54,
   "metadata": {},
   "outputs": [
    {
     "data": {
      "text/plain": [
       "[0, 0, 6, 8, 0, 0, 1, 0, 2]"
      ]
     },
     "execution_count": 54,
     "metadata": {},
     "output_type": "execute_result"
    }
   ],
   "source": [
    "getBoxValues(puzzle,8)"
   ]
  },
  {
   "cell_type": "code",
   "execution_count": 55,
   "metadata": {},
   "outputs": [],
   "source": [
    "# Check if a list of digits contain all values from 1 to 9\n",
    "def checkList(lst):\n",
    "    return set(lst) == set(range(1,10))"
   ]
  },
  {
   "cell_type": "code",
   "execution_count": 56,
   "metadata": {},
   "outputs": [],
   "source": [
    "# Check if a puzzle has been solved\n",
    "def isSolved(puzzle):\n",
    "    # Check rows\n",
    "    for row in puzzle:\n",
    "        if not checkList(row):\n",
    "            return False\n",
    "\n",
    "    # Check columns\n",
    "    for i in range(0,9):\n",
    "        if not checkList(getColValues(puzzle, i)):\n",
    "            return False;\n",
    "\n",
    "    # Check box\n",
    "    for i in range(0,9):\n",
    "        if not checkList(getBoxValues(puzzle, i)):\n",
    "            return False;\n",
    "\n",
    "    return True"
   ]
  },
  {
   "cell_type": "code",
   "execution_count": 57,
   "metadata": {},
   "outputs": [],
   "source": [
    "# Checks if a number can be added to a specific position\n",
    "def isValid(puzzle, num, pos):\n",
    "    # Check the row\n",
    "    for i in range(len(puzzle[0])):\n",
    "        if puzzle[pos[0]][i]==num and pos[1] != i:\n",
    "            return False\n",
    "\n",
    "    # Check the column\n",
    "    for i in range(len(puzzle[1])):\n",
    "        if puzzle[i][pos[1]]==num and pos[0] != i:\n",
    "            return False\n",
    "\n",
    "    # Check box\n",
    "    box_x = pos[1] // 3\n",
    "    box_y = pos[0] // 3\n",
    "\n",
    "    for i in range(box_y*3, box_y*3 + 3):\n",
    "        for j in range(box_x * 3, box_x*3 + 3):\n",
    "            if puzzle[i][j] == num and (i,j) != pos:\n",
    "                return False\n",
    "\n",
    "    return True"
   ]
  },
  {
   "cell_type": "code",
   "execution_count": 58,
   "metadata": {},
   "outputs": [
    {
     "data": {
      "text/plain": [
       "[[2, 0, 7, 4, 0, 8, 6, 0, 9],\n",
       " [1, 0, 0, 0, 9, 0, 0, 0, 7],\n",
       " [0, 0, 0, 0, 7, 0, 0, 0, 0],\n",
       " [3, 7, 0, 6, 0, 2, 0, 9, 8],\n",
       " [6, 0, 0, 0, 0, 0, 0, 0, 1],\n",
       " [5, 8, 0, 7, 1, 9, 0, 6, 3],\n",
       " [8, 0, 0, 5, 2, 4, 0, 0, 6],\n",
       " [0, 0, 5, 0, 6, 0, 8, 0, 0],\n",
       " [9, 0, 6, 8, 3, 7, 1, 0, 2]]"
      ]
     },
     "execution_count": 58,
     "metadata": {},
     "output_type": "execute_result"
    }
   ],
   "source": [
    "puzzle = to2DArray('207408609100090007000070000370602098600000001580719063800524006005060800906837102')\n",
    "puzzle"
   ]
  },
  {
   "cell_type": "code",
   "execution_count": 59,
   "metadata": {},
   "outputs": [
    {
     "data": {
      "text/plain": [
       "False"
      ]
     },
     "execution_count": 59,
     "metadata": {},
     "output_type": "execute_result"
    }
   ],
   "source": [
    "puzzle = to2DArray('207408609100090007000070000370602098600000001580719063800524006005060800906837102')\n",
    "isSolved(puzzle)"
   ]
  },
  {
   "cell_type": "code",
   "execution_count": 60,
   "metadata": {},
   "outputs": [
    {
     "data": {
      "text/plain": [
       "True"
      ]
     },
     "execution_count": 60,
     "metadata": {},
     "output_type": "execute_result"
    }
   ],
   "source": [
    "puzzle = to2DArray('237458619158296347469173285371642598694385721582719463813524976725961834946837152')\n",
    "isSolved(puzzle)"
   ]
  },
  {
   "cell_type": "code",
   "execution_count": 61,
   "metadata": {},
   "outputs": [
    {
     "data": {
      "text/plain": [
       "True"
      ]
     },
     "execution_count": 61,
     "metadata": {},
     "output_type": "execute_result"
    }
   ],
   "source": [
    "puzzle = to2DArray('207408609100090007000070000370602098600000001580719063800524006005060800906837102')\n",
    "isValid(puzzle, 3, [0,1])"
   ]
  }
 ],
 "metadata": {
  "kernelspec": {
   "display_name": "sudoku",
   "language": "python",
   "name": "python3"
  },
  "language_info": {
   "codemirror_mode": {
    "name": "ipython",
    "version": 3
   },
   "file_extension": ".py",
   "mimetype": "text/x-python",
   "name": "python",
   "nbconvert_exporter": "python",
   "pygments_lexer": "ipython3",
   "version": "3.10.9 (tags/v3.10.9:1dd9be6, Dec  6 2022, 20:01:21) [MSC v.1934 64 bit (AMD64)]"
  },
  "orig_nbformat": 4,
  "vscode": {
   "interpreter": {
    "hash": "1fa4100ae67b3ce4a33c20afdbe5cffef15defc525c61da60f3d0ff851893932"
   }
  }
 },
 "nbformat": 4,
 "nbformat_minor": 2
}
