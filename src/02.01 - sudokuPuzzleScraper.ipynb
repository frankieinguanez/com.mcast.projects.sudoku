{
 "cells": [
  {
   "attachments": {},
   "cell_type": "markdown",
   "metadata": {},
   "source": [
    "# Data Acquisition\n",
    "\n",
    "Author: Frankie Inguanez<br />\n",
    "Date: 13/01/2023<br /><br />\n",
    "\n",
    "A scraper for Sudoku Puzzles found on the https://mypuzzle.org website. To serve as an academic example for research projects."
   ]
  },
  {
   "cell_type": "code",
   "execution_count": 1,
   "metadata": {},
   "outputs": [],
   "source": [
    "# Scraping the puzzle\n",
    "def getPuzzle(code):\n",
    "    import time\n",
    "    import random\n",
    "    import requests\n",
    "    from bs4 import BeautifulSoup\n",
    "\n",
    "    # Create header to bypass Mod_Security\n",
    "    headers = {\n",
    "        'User-Agent': 'Mozilla/5.0 (Macintosh; Intel Mac OS X 10.12; rv:55.0) Gecko/20100101 Firefox/55.0',\n",
    "    }\n",
    "\n",
    "    puzzleUrl = \"https://mypuzzle.org/app/sudoku/sudokuGet.php?iSudoku={:0.0f}\"\n",
    "    solutionUrl = \"https://mypuzzle.org/app/sudoku/sudokuGetSolution.php?iSudoku={:0.0f}\"\n",
    "\n",
    "    # Wait for a few milliseconds so not to be blocked\n",
    "    time.sleep(random.randint(0, 10)/10)\n",
    "\n",
    "    # Get puzzle and solution\n",
    "    puzzle = requests.get(puzzleUrl.format(code), headers=headers)\n",
    "    solution = requests.get(solutionUrl.format(code), headers=headers)\n",
    "\n",
    "    # Verify that response is what was expected\n",
    "    if (puzzle.status_code!=200 or solution.status_code!=200):\n",
    "        raise ValueError(\"Unexcepcted response code. Puzzle Code: {:0.0f}\\nPuzzle Response Code: {:0.0f}\\nSolution Response Code: {:0.0f}\\n\"\\\n",
    "            .format(code, puzzle.status_code, solution.status_code))\n",
    "\n",
    "    if (puzzle.text.__len__()!=81 or solution.text.__len__()!=81):\n",
    "        raise ValueError(\"Unexpected response content. Puzzle Code: {:0.0f}\\nPuzzle Response: {}\\nSolution Repsonse: {}\\n\"\\\n",
    "            .format(code, puzzle.text, solution.text))\n",
    "\n",
    "    return puzzle.text, solution.text"
   ]
  },
  {
   "cell_type": "code",
   "execution_count": 2,
   "metadata": {},
   "outputs": [],
   "source": [
    "# Save puzzle\n",
    "def savePuzzle(puzzle, solution, puzzleFileName, solutionFileName):\n",
    "    # Open file and write file\n",
    "    with open(puzzleFileName, \"a\", encoding=\"utf-8\") as pf:\n",
    "        pf.write(\"{}\\n\".format(puzzle))\n",
    "\n",
    "    with open(solutionFileName, \"a\", encoding=\"utf-8\") as sf:\n",
    "        sf.write(\"{}\\n\".format(solution))"
   ]
  },
  {
   "cell_type": "code",
   "execution_count": 3,
   "metadata": {},
   "outputs": [],
   "source": [
    "# Save an error should it occur\n",
    "def saveError(code, error, fileName):\n",
    "    try:\n",
    "        # Save error to file\n",
    "        with open(fileName, \"a\", encoding=\"utf-8\") as f:\n",
    "            f.write(\"Error encountered when requesting puzzle with code {:0.0f}:\\n{}\\n{}\\n{}\\n\\n\".format(code, type(error), error.args, error))\n",
    "\n",
    "    except Exception as e:\n",
    "        # Print error to console since we could not save to file\n",
    "        print(\"Failed to save error to file. Exception encountered:\\n{}\\n{}\\n{}\\n\\n\".format(type(e), e.args, e))\n",
    "        print(\"Original error that could not be saved to file was encountered at puzzle {:0.0f}:\\n{}\\n{}\\n{}\\n\\n\".format(code, type(error), error.args, error))"
   ]
  },
  {
   "cell_type": "code",
   "execution_count": 4,
   "metadata": {},
   "outputs": [],
   "source": [
    "def scrapeSudokuPuzzles(start, finish, puzzlesFileName, solutionsFileName, errorsFileName):\n",
    "    import tqdm\n",
    "\n",
    "    # Error flag\n",
    "    hasError = False\n",
    "\n",
    "    print(\"Starting sudoku puzzle scraper from puzzle {:0.0f} to puzzle {:0.0f}.\".format(start, finish))\n",
    "\n",
    "    # Loop for entire range of puzzles\n",
    "    for p in tqdm.tqdm(range(start, finish)):\n",
    "        try:\n",
    "            puzzle, solution = getPuzzle(p)\n",
    "            \n",
    "            if (puzzle and solution):\n",
    "                savePuzzle(puzzle, solution, puzzlesFileName, solutionsFileName)\n",
    "            else:\n",
    "                raise ValueError(\"Received empty response for puzzle with identiication code {:0.0f}.\\n\".format(p))\n",
    "        except Exception as inst:\n",
    "            hasError = True\n",
    "            saveError(p, inst, errorsFileName)\n",
    "\n",
    "    print(\"Operation encountered some errors. Check {} for details or script output above.\".format(errorsFileName) if hasError \\\n",
    "        else \"Sudoku puzzles scraper completed successfully.\")\n",
    "    print(\"Sudoku puzzles saved in {}\".format(puzzlesFileName))"
   ]
  },
  {
   "cell_type": "code",
   "execution_count": 5,
   "metadata": {},
   "outputs": [
    {
     "name": "stdout",
     "output_type": "stream",
     "text": [
      "Starting sudoku puzzle scraper from puzzle 1 to puzzle 10.\n"
     ]
    },
    {
     "name": "stderr",
     "output_type": "stream",
     "text": [
      "100%|██████████| 9/9 [00:18<00:00,  2.01s/it]"
     ]
    },
    {
     "name": "stdout",
     "output_type": "stream",
     "text": [
      "Sudoku puzzles scraper completed successfully.\n",
      "Sudoku puzzles saved in puzzles.txt\n"
     ]
    },
    {
     "name": "stderr",
     "output_type": "stream",
     "text": [
      "\n"
     ]
    }
   ],
   "source": [
    "scrapeSudokuPuzzles(1, 10, \"puzzles.txt\", \"solutions.txt\", \"errors.txt\")"
   ]
  }
 ],
 "metadata": {
  "kernelspec": {
   "display_name": "sudoku",
   "language": "python",
   "name": "python3"
  },
  "language_info": {
   "codemirror_mode": {
    "name": "ipython",
    "version": 3
   },
   "file_extension": ".py",
   "mimetype": "text/x-python",
   "name": "python",
   "nbconvert_exporter": "python",
   "pygments_lexer": "ipython3",
   "version": "3.10.8"
  },
  "orig_nbformat": 4,
  "vscode": {
   "interpreter": {
    "hash": "615e879b812eb291a647d5ad8660ec074c290f753c91a47ae0e19b40ce7bb72e"
   }
  }
 },
 "nbformat": 4,
 "nbformat_minor": 2
}
