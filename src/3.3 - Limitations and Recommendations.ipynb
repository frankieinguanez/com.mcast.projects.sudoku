{
 "cells": [
  {
   "attachments": {},
   "cell_type": "markdown",
   "metadata": {},
   "source": [
    "# Limitations and Recommendations\n",
    "\n",
    "Author: Frankie Inguanez<br />\n",
    "Date: 16/01/2023<br /><br />\n",
    "\n",
    "An evaluation of the project limitations and recommendations moving forward."
   ]
  },
  {
   "attachments": {},
   "cell_type": "markdown",
   "metadata": {},
   "source": [
    "## Data evaluation\n",
    "\n",
    "- Dataset is limited to 8400, when there are a total of 6.671×e21 (6670903752021072936960) possible Sudoku grids.\n",
    "- The extremely easy puzzles are not represented.\n",
    "- The dataset is not balanced."
   ]
  },
  {
   "attachments": {},
   "cell_type": "markdown",
   "metadata": {},
   "source": [
    "## Prototype evaluation\n",
    "\n",
    "- Only one solution algorithm is available\n",
    "- Steps in solving are not stored\n",
    "- Does not use GPU\n",
    "- Not visual"
   ]
  },
  {
   "attachments": {},
   "cell_type": "markdown",
   "metadata": {},
   "source": [
    "## Analysis evaluation\n",
    "\n",
    "- Only 1000 puzzles were considered from the 8400\n",
    "- Very computational intensive"
   ]
  },
  {
   "attachments": {},
   "cell_type": "markdown",
   "metadata": {},
   "source": [
    "## Recommendations\n",
    "\n",
    "### Setup\n",
    "- Setup with CUDA+Docker to use GPU (Vertical growth - market readiness)\n",
    "\n",
    "### Dataset\n",
    "- Consider larger datasets from other sources such as on Kaggle (Horizonal growth - scope)\n",
    "- Implement a Sudoku Generator (Horizonal growth - scope)\n",
    "- Generate a balanced dataset (equal number of grids per unknowns/clues) (Horizonal growth - scope)\n",
    "\n",
    "### Prototype\n",
    "- Register valid steps taken in solving (Vertical growth - market readiness)\n",
    "- Add a UI/frontend to interact and visualise (Vertical growth - market readiness)\n",
    "- Implement other solution algorithms (Depth growth - technical rigour)\n",
    "\n",
    "### Domain\n",
    "- Migrate to other problems like Chess, Go (Domain change)"
   ]
  }
 ],
 "metadata": {
  "kernelspec": {
   "display_name": "Python 3",
   "language": "python",
   "name": "python3"
  },
  "language_info": {
   "name": "python",
   "version": "3.10.9 (tags/v3.10.9:1dd9be6, Dec  6 2022, 20:01:21) [MSC v.1934 64 bit (AMD64)]"
  },
  "orig_nbformat": 4,
  "vscode": {
   "interpreter": {
    "hash": "40faf0d886c4f8f8fdbfa407452ad8e6f76ae871a35707b880c5d8fd40185abd"
   }
  }
 },
 "nbformat": 4,
 "nbformat_minor": 2
}
