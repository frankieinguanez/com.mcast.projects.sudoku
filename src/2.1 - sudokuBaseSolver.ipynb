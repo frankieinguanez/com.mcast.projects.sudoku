{
 "cells": [
  {
   "attachments": {},
   "cell_type": "markdown",
   "metadata": {},
   "source": [
    "# Basic implementation\n",
    "\n",
    "Author: Frankie Inguanez <br />\n",
    "Date: 13/01/2023<br /><br />\n",
    "\n",
    "A base implementation of a 9x9 sudoku puzzle, that does a raster scan (left to right, top to bottom) to search for an unknown cell, with an ordered guess. This algorithm is a backtracking (brute-force) algorithm."
   ]
  },
  {
   "cell_type": "code",
   "execution_count": 9,
   "metadata": {},
   "outputs": [],
   "source": [
    "# Saves an error\n",
    "def saveError(error, errorsFileName):\n",
    "    try:\n",
    "        with open(errorsFileName, \"a\", encoding=\"utf-8\") as ef:\n",
    "            ef.write(\"Encountered error:\\n{}\\n{}\\n{}\\n\\n\".format(type(error), error.args, error))\n",
    "    except Exception as e:\n",
    "        # Failed to save error to file\n",
    "        print(\"Failed to save original error to file due to:\\n{}\\n{}\\n{}\\n\\n\".format(type(e), e.args, e))\n",
    "        print(\"Original error:\\n{}\\n{}\\n{}\\n\\n\".format(type(error), error.args, error))\n",
    "\n",
    "# Get number of lines in a file\n",
    "def getFileLineCount(fileName):\n",
    "    import mmap\n",
    "\n",
    "    lines = 0\n",
    "    with open(fileName, \"r+\", encoding=\"utf-8\") as f:\n",
    "        bf = mmap.mmap(f.fileno(), 0)\n",
    "\n",
    "        while bf.readline():\n",
    "            lines += 1\n",
    "\n",
    "    return lines\n",
    "\n",
    "# Convert a string to a 2D 9x9 array.\n",
    "def to2DArray(n):\n",
    "    return [list(map(int, n[i:i+9])) for i in range(0, 81, 9)]\n",
    "\n",
    "# Get column values\n",
    "def getColValues(puzzle, col):\n",
    "    lst = []\n",
    "    for row in puzzle:\n",
    "        lst.append(row[col])\n",
    "\n",
    "    return lst\n",
    "\n",
    "# Get box values. Boxes are 3x3 sub-grids enumerates from top left in a raster fashion\n",
    "# 0, 1, 2\n",
    "# 3, 4, 5\n",
    "# 6, 7, 8\n",
    "def getBoxValues(puzzle, box):\n",
    "    return [puzzle[x][y] for x in range((box//3)*3,((box//3)*3)+3) for y in range((box%3)*3, ((box%3)*3)+3)]\n",
    "\n",
    "# Check if a list of digits contain all values from 1 to 9\n",
    "def checkList(lst):\n",
    "    return set(lst) == set(range(1,10))\n",
    "\n",
    "# Check if a puzzle has been solved\n",
    "def isSolved(puzzle):\n",
    "    # Check rows\n",
    "    for row in puzzle:\n",
    "        if not checkList(row):\n",
    "            return False\n",
    "\n",
    "    # Check columns\n",
    "    for i in range(0,9):\n",
    "        if not checkList(getColValues(puzzle, i)):\n",
    "            return False;\n",
    "\n",
    "    # Check box\n",
    "    for i in range(0,9):\n",
    "        if not checkList(getBoxValues(puzzle, i)):\n",
    "            return False;\n",
    "\n",
    "    return True\n",
    "\n",
    "# Checks if a number can be added to a specific position\n",
    "def isValid(puzzle, num, pos):\n",
    "    # Check the row\n",
    "    for i in range(len(puzzle[0])):\n",
    "        if puzzle[pos[0]][i]==num and pos[1] != i:\n",
    "            return False\n",
    "\n",
    "    # Check the column\n",
    "    for i in range(len(puzzle[1])):\n",
    "        if puzzle[i][pos[1]]==num and pos[0] != i:\n",
    "            return False\n",
    "\n",
    "    # Check box\n",
    "    box_x = pos[1] // 3\n",
    "    box_y = pos[0] // 3\n",
    "\n",
    "    for i in range(box_y*3, box_y*3 + 3):\n",
    "        for j in range(box_x * 3, box_x*3 + 3):\n",
    "            if puzzle[i][j] == num and (i,j) != pos:\n",
    "                return False\n",
    "\n",
    "    return True"
   ]
  },
  {
   "cell_type": "code",
   "execution_count": 5,
   "metadata": {},
   "outputs": [],
   "source": [
    "# Finds the next empty cell in a raster fashion.\n",
    "def findRaster(puzzle):\n",
    "    for row in range(len(puzzle)):\n",
    "        for col in range(len(puzzle[0])):\n",
    "            if puzzle[row][col] == 0:\n",
    "                return (row, col)\n",
    "            \n",
    "    return None"
   ]
  },
  {
   "cell_type": "code",
   "execution_count": 6,
   "metadata": {},
   "outputs": [],
   "source": [
    "# Solves a sudoku 9x9 puzzle in a raster pattern using sequential brute force guessing.\n",
    "def solveRaster(puzzle):\n",
    "    find = findRaster(puzzle)\n",
    "\n",
    "    if not find:\n",
    "        return True\n",
    "    else:\n",
    "        row, col = find\n",
    "\n",
    "    for i in range(1,10):\n",
    "        if isValid(puzzle, i, (row, col)):\n",
    "            puzzle[row][col] = i\n",
    "\n",
    "            if solveRaster(puzzle):\n",
    "                return True\n",
    "\n",
    "            puzzle[row][col] = 0\n",
    "\n",
    "    return False"
   ]
  },
  {
   "cell_type": "code",
   "execution_count": 13,
   "metadata": {},
   "outputs": [
    {
     "name": "stdout",
     "output_type": "stream",
     "text": [
      "Solved puzzle!\n"
     ]
    },
    {
     "data": {
      "text/plain": [
       "[[1, 3, 7, 4, 6, 8, 5, 2, 9],\n",
       " [2, 5, 8, 3, 1, 9, 4, 7, 6],\n",
       " [4, 6, 9, 5, 7, 2, 1, 8, 3],\n",
       " [6, 1, 2, 7, 3, 4, 9, 5, 8],\n",
       " [3, 8, 5, 9, 2, 1, 6, 4, 7],\n",
       " [7, 9, 4, 6, 8, 5, 3, 1, 2],\n",
       " [5, 7, 6, 2, 4, 3, 8, 9, 1],\n",
       " [9, 2, 1, 8, 5, 6, 7, 3, 4],\n",
       " [8, 4, 3, 1, 9, 7, 2, 6, 5]]"
      ]
     },
     "execution_count": 13,
     "metadata": {},
     "output_type": "execute_result"
    }
   ],
   "source": [
    "puzzle = to2DArray('100008509000000000460000000600000000085020047094600302000003090920000700000107005')\n",
    "\n",
    "print(\"Solved puzzle!\" if solveRaster(puzzle) else \"Could not solve puzzle\")\n",
    "puzzle"
   ]
  },
  {
   "cell_type": "code",
   "execution_count": 17,
   "metadata": {},
   "outputs": [],
   "source": [
    "def solvePuzzles(puzzlesFileName, statsFileName, errorsFileName, limit):\n",
    "    import tqdm\n",
    "\n",
    "    if not limit:\n",
    "        limit = getFileLineCount(puzzlesFileName)\n",
    "\n",
    "    i = 0\n",
    "    hasError = False\n",
    "    try:\n",
    "        print(\"Starting sudoku base solver.\")\n",
    "        \n",
    "        with open(statsFileName, \"w\", encoding=\"utf-8\") as sf:\n",
    "            with open(puzzlesFileName, \"r\", encoding=\"utf-8\") as pf:\n",
    "                for line in tqdm.tqdm(pf, total=limit):\n",
    "                    # Parse the content\n",
    "                    data = line.split(',')\n",
    "                    p = data[1].strip()\n",
    "\n",
    "                    puzzle = to2DArray(p)\n",
    "\n",
    "                    if not solveRaster(puzzle):\n",
    "                        sf.write(\"Could not solve puzzle {:0.0f}\".format(data[0]))\n",
    "\n",
    "                    i+=1\n",
    "\n",
    "                    if (i>limit):\n",
    "                        break\n",
    "\n",
    "    except Exception as e:\n",
    "        hasError = True\n",
    "        saveError(e, errorsFileName)\n",
    "\n",
    "    print(\"Operation encountered some errors. Check {} for details or script output above.\".format(errorsFileName) \\\n",
    "        if hasError else \"Sudoku puzzles solved completed successfully.\")\n",
    "    print(\"Sudoku solver statistics saved in {}\".format(statsFileName))\n"
   ]
  },
  {
   "cell_type": "code",
   "execution_count": 20,
   "metadata": {},
   "outputs": [
    {
     "name": "stdout",
     "output_type": "stream",
     "text": [
      "Starting sudoku base solver.\n"
     ]
    },
    {
     "name": "stderr",
     "output_type": "stream",
     "text": [
      "100%|██████████| 100/100 [00:00<00:00, 927.72it/s]"
     ]
    },
    {
     "name": "stdout",
     "output_type": "stream",
     "text": [
      "Sudoku puzzles solved completed successfully.\n",
      "Sudoku solver statistics saved in solverStats.txt\n"
     ]
    },
    {
     "name": "stderr",
     "output_type": "stream",
     "text": [
      "\n"
     ]
    }
   ],
   "source": [
    "solvePuzzles(\"sudokuDataset.csv\",\"solverStats.txt\", \"solverErrors.txt\",100)"
   ]
  }
 ],
 "metadata": {
  "kernelspec": {
   "display_name": "sudoku",
   "language": "python",
   "name": "python3"
  },
  "language_info": {
   "codemirror_mode": {
    "name": "ipython",
    "version": 3
   },
   "file_extension": ".py",
   "mimetype": "text/x-python",
   "name": "python",
   "nbconvert_exporter": "python",
   "pygments_lexer": "ipython3",
   "version": "3.10.9"
  },
  "orig_nbformat": 4,
  "vscode": {
   "interpreter": {
    "hash": "1fa4100ae67b3ce4a33c20afdbe5cffef15defc525c61da60f3d0ff851893932"
   }
  }
 },
 "nbformat": 4,
 "nbformat_minor": 2
}
