{
 "cells": [
  {
   "attachments": {},
   "cell_type": "markdown",
   "metadata": {},
   "source": [
    "# Basic implementation\n",
    "\n",
    "Author: Frankie Inguanez <br />\n",
    "Date: 13/01/2023<br /><br />\n",
    "\n",
    "A base implementation of a 9x9 sudoku puzzle, that does a raster scan (left to right, top to bottom) to search for an unknown cell, with an ordered guess. This algorithm is a backtracking (brute-force) algorithm."
   ]
  },
  {
   "cell_type": "code",
   "execution_count": 6,
   "metadata": {},
   "outputs": [],
   "source": [
    "import sudokuPuzzleUtils as spu"
   ]
  },
  {
   "cell_type": "code",
   "execution_count": 2,
   "metadata": {},
   "outputs": [],
   "source": [
    "# Finds the next empty cell in a raster fashion.\n",
    "def findRaster(puzzle):\n",
    "    for row in range(len(puzzle)):\n",
    "        for col in range(len(puzzle[0])):\n",
    "            if puzzle[row][col] == 0:\n",
    "                return (row, col)\n",
    "            \n",
    "    return None"
   ]
  },
  {
   "cell_type": "code",
   "execution_count": 9,
   "metadata": {},
   "outputs": [],
   "source": [
    "# Solves a sudoku 9x9 puzzle in a raster pattern using sequential brute force guessing.\n",
    "def solveRaster(puzzle):\n",
    "    find = findRaster(puzzle)\n",
    "\n",
    "    if not find:\n",
    "        return True\n",
    "    else:\n",
    "        row, col = find\n",
    "\n",
    "    for i in range(1,10):\n",
    "        if spu.isValid(puzzle, i, (row, col)):\n",
    "            puzzle[row][col] = i\n",
    "\n",
    "            if solveRaster(puzzle):\n",
    "                return True\n",
    "\n",
    "            puzzle[row][col] = 0\n",
    "\n",
    "    return False"
   ]
  },
  {
   "cell_type": "code",
   "execution_count": 10,
   "metadata": {},
   "outputs": [
    {
     "name": "stdout",
     "output_type": "stream",
     "text": [
      "Solved puzzle!\n"
     ]
    },
    {
     "data": {
      "text/plain": [
       "[[1, 3, 7, 4, 6, 8, 5, 2, 9],\n",
       " [2, 5, 8, 3, 1, 9, 4, 7, 6],\n",
       " [4, 6, 9, 5, 7, 2, 1, 8, 3],\n",
       " [6, 1, 2, 7, 3, 4, 9, 5, 8],\n",
       " [3, 8, 5, 9, 2, 1, 6, 4, 7],\n",
       " [7, 9, 4, 6, 8, 5, 3, 1, 2],\n",
       " [5, 7, 6, 2, 4, 3, 8, 9, 1],\n",
       " [9, 2, 1, 8, 5, 6, 7, 3, 4],\n",
       " [8, 4, 3, 1, 9, 7, 2, 6, 5]]"
      ]
     },
     "execution_count": 10,
     "metadata": {},
     "output_type": "execute_result"
    }
   ],
   "source": [
    "puzzle = spu.to2DArray('100008509000000000460000000600000000085020047094600302000003090920000700000107005')\n",
    "\n",
    "print(\"Solved puzzle!\" if solveRaster(puzzle) else \"Could not solve puzzle\")\n",
    "puzzle"
   ]
  },
  {
   "cell_type": "code",
   "execution_count": 13,
   "metadata": {},
   "outputs": [],
   "source": [
    "def solvePuzzles(puzzlesFileName, statsFileName, errorsFileName, limit):\n",
    "    import tqdm\n",
    "\n",
    "    if not limit:\n",
    "        limit = spu.getFileLineCount(puzzlesFileName)\n",
    "\n",
    "    i = 0\n",
    "    hasError = False\n",
    "    try:\n",
    "        print(\"Starting sudoku base solver.\")\n",
    "        \n",
    "        with open(statsFileName, \"w\", encoding=\"utf-8\") as sf:\n",
    "            with open(puzzlesFileName, \"r\", encoding=\"utf-8\") as pf:\n",
    "                for line in tqdm.tqdm(pf, total=limit):\n",
    "                    # Parse the content\n",
    "                    data = line.split(',')\n",
    "                    p = data[1].strip()\n",
    "\n",
    "                    puzzle = spu.to2DArray(p)\n",
    "\n",
    "                    if not solveRaster(puzzle):\n",
    "                        sf.write(\"Could not solve puzzle {:0.0f}\".format(data[0]))\n",
    "\n",
    "                    i+=1\n",
    "\n",
    "                    if (i>limit):\n",
    "                        break\n",
    "\n",
    "    except Exception as e:\n",
    "        hasError = True\n",
    "        spu.saveError(e, errorsFileName)\n",
    "\n",
    "    print(\"Operation encountered some errors. Check {} for details or script output above.\".format(errorsFileName) \\\n",
    "        if hasError else \"Sudoku puzzles solved completed successfully.\")\n",
    "    print(\"Sudoku solver statistics saved in {}\".format(statsFileName))\n"
   ]
  },
  {
   "cell_type": "code",
   "execution_count": 14,
   "metadata": {},
   "outputs": [
    {
     "name": "stdout",
     "output_type": "stream",
     "text": [
      "Starting sudoku base solver.\n"
     ]
    },
    {
     "name": "stderr",
     "output_type": "stream",
     "text": [
      "100%|██████████| 100/100 [00:00<00:00, 1074.93it/s]"
     ]
    },
    {
     "name": "stdout",
     "output_type": "stream",
     "text": [
      "Sudoku puzzles solved completed successfully.\n",
      "Sudoku solver statistics saved in solverStats.txt\n"
     ]
    },
    {
     "name": "stderr",
     "output_type": "stream",
     "text": [
      "\n"
     ]
    }
   ],
   "source": [
    "solvePuzzles(\"sudokuDataset.csv\",\"solverStats.txt\", \"solverErrors.txt\",100)"
   ]
  }
 ],
 "metadata": {
  "kernelspec": {
   "display_name": "sudoku",
   "language": "python",
   "name": "python3"
  },
  "language_info": {
   "codemirror_mode": {
    "name": "ipython",
    "version": 3
   },
   "file_extension": ".py",
   "mimetype": "text/x-python",
   "name": "python",
   "nbconvert_exporter": "python",
   "pygments_lexer": "ipython3",
   "version": "3.10.9 (tags/v3.10.9:1dd9be6, Dec  6 2022, 20:01:21) [MSC v.1934 64 bit (AMD64)]"
  },
  "orig_nbformat": 4,
  "vscode": {
   "interpreter": {
    "hash": "1fa4100ae67b3ce4a33c20afdbe5cffef15defc525c61da60f3d0ff851893932"
   }
  }
 },
 "nbformat": 4,
 "nbformat_minor": 2
}
