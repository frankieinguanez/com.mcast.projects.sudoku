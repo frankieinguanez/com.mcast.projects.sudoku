{
 "cells": [
  {
   "attachments": {},
   "cell_type": "markdown",
   "metadata": {},
   "source": [
    "# Data Exploration\n",
    "\n",
    "Author: Frankie Inguanez <br />\n",
    "Date: 13/01/2023 <br /> <br />\n",
    "\n",
    "An evaluator of sudoku puzzles"
   ]
  },
  {
   "cell_type": "code",
   "execution_count": 1,
   "metadata": {},
   "outputs": [],
   "source": [
    "# Saves an error\n",
    "def saveError(error, errorsFileName):\n",
    "    try:\n",
    "        with open(errorsFileName, \"a\", encoding=\"utf-8\") as ef:\n",
    "            ef.write(\"Encountered error:\\n{}\\n{}\\n{}\\n\\n\".format(type(error), error.args, error))\n",
    "    except Exception as e:\n",
    "        # Failed to save error to file\n",
    "        print(\"Failed to save original error to file due to:\\n{}\\n{}\\n{}\\n\\n\".format(type(e), e.args, e))\n",
    "        print(\"Original error:\\n{}\\n{}\\n{}\\n\\n\".format(type(error), error.args, error))"
   ]
  },
  {
   "cell_type": "code",
   "execution_count": 2,
   "metadata": {},
   "outputs": [],
   "source": [
    "# Get number of lines in a file\n",
    "def getFileLineCount(fileName):\n",
    "    import mmap\n",
    "\n",
    "    lines = 0\n",
    "    with open(fileName, \"r+\", encoding=\"utf-8\") as f:\n",
    "        bf = mmap.mmap(f.fileno(), 0)\n",
    "\n",
    "        while bf.readline():\n",
    "            lines += 1\n",
    "\n",
    "    return lines"
   ]
  },
  {
   "cell_type": "code",
   "execution_count": 3,
   "metadata": {},
   "outputs": [],
   "source": [
    "# Save stats\n",
    "def saveStats(stats, statsFileName):\n",
    "    with open(statsFileName, \"w\", encoding=\"utf-8\") as sf:\n",
    "        for i in range(0, 81):\n",
    "            if stats[i] ==0:\n",
    "                continue\n",
    "\n",
    "            sf.write(\"{:0.0f},{:0.0f}\\n\".format(i, stats[i]))"
   ]
  },
  {
   "cell_type": "code",
   "execution_count": 4,
   "metadata": {},
   "outputs": [],
   "source": [
    "# Evalutes sudoku puzzles dataset\n",
    "def evaluateSudokuDataset(puzzlesFileName, statsFileName, errorsFileName):\n",
    "    import tqdm\n",
    "\n",
    "    hasError = False\n",
    "    try:\n",
    "        print(\"Starting sudoku puzzles evaluation.\")\n",
    "\n",
    "        # Prepare the dictionary\n",
    "        zeros = {}\n",
    "        for i in range(0,81):\n",
    "            zeros[i] = 0\n",
    "\n",
    "        # Read the puzzles file\n",
    "        with open(puzzlesFileName, \"r\", encoding=\"utf-8\") as pf:\n",
    "            for line in tqdm.tqdm(pf, total=getFileLineCount(puzzlesFileName)):\n",
    "                # Parse the content\n",
    "                data = line.split(',')\n",
    "                puzzle = data[1].strip()\n",
    "\n",
    "                # Count the number of zeros\n",
    "                zeroCount = puzzle.count('0')\n",
    "                zeros[zeroCount] += 1\n",
    "\n",
    "        # Save stats\n",
    "        saveStats(zeros, statsFileName)\n",
    "    except Exception as e:\n",
    "        hasError = True\n",
    "        saveError(e, errorsFileName)\n",
    "\n",
    "    print(\"Operation encountered some errors. Check {} for details or script output above.\".format(errorsFileName) \\\n",
    "        if hasError else \"Sudoku puzzles evaluator completed successfully.\")\n",
    "    print(\"Sudoku puzzles statistics saved in {}\".format(statsFileName))"
   ]
  },
  {
   "cell_type": "code",
   "execution_count": 5,
   "metadata": {},
   "outputs": [
    {
     "name": "stdout",
     "output_type": "stream",
     "text": [
      "Starting sudoku puzzles evaluation.\n"
     ]
    },
    {
     "name": "stderr",
     "output_type": "stream",
     "text": [
      "100%|██████████| 8400/8400 [00:00<00:00, 550795.01it/s]"
     ]
    },
    {
     "name": "stdout",
     "output_type": "stream",
     "text": [
      "Sudoku puzzles evaluator completed successfully.\n",
      "Sudoku puzzles statistics saved in sudokuStats.csv\n"
     ]
    },
    {
     "name": "stderr",
     "output_type": "stream",
     "text": [
      "\n"
     ]
    }
   ],
   "source": [
    "evaluateSudokuDataset(\"sudokuDataset.csv\", \"sudokuStats.csv\", \"evaluatorErrors.txt\")"
   ]
  }
 ],
 "metadata": {
  "kernelspec": {
   "display_name": "sudoku",
   "language": "python",
   "name": "python3"
  },
  "language_info": {
   "codemirror_mode": {
    "name": "ipython",
    "version": 3
   },
   "file_extension": ".py",
   "mimetype": "text/x-python",
   "name": "python",
   "nbconvert_exporter": "python",
   "pygments_lexer": "ipython3",
   "version": "3.10.9 (tags/v3.10.9:1dd9be6, Dec  6 2022, 20:01:21) [MSC v.1934 64 bit (AMD64)]"
  },
  "orig_nbformat": 4,
  "vscode": {
   "interpreter": {
    "hash": "1fa4100ae67b3ce4a33c20afdbe5cffef15defc525c61da60f3d0ff851893932"
   }
  }
 },
 "nbformat": 4,
 "nbformat_minor": 2
}
