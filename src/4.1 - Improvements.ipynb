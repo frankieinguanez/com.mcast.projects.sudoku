{
 "cells": [
  {
   "attachments": {},
   "cell_type": "markdown",
   "metadata": {},
   "source": [
    "# Improvements\n",
    "\n",
    "Author: Frankie Inguanez<br />\n",
    "Date: 16/01/2023<br /><br />\n",
    "\n",
    "Improvements on previous implementation."
   ]
  },
  {
   "cell_type": "code",
   "execution_count": 1,
   "metadata": {},
   "outputs": [],
   "source": [
    "import sudokuPuzzleUtils as spu\n",
    "import sudokuGuessAlg as sga\n",
    "import sudokuSearchAlg as ssa"
   ]
  },
  {
   "cell_type": "code",
   "execution_count": 2,
   "metadata": {},
   "outputs": [],
   "source": [
    "## Adding tracking of solutions\n",
    "\n",
    "class SudokuConfig:\n",
    "    def __init__(self, searchMode: int, guessMode: int, tracking: bool):\n",
    "        self.searchMode=searchMode\n",
    "        self.guessMode=guessMode\n",
    "        self.tracking=tracking"
   ]
  },
  {
   "cell_type": "code",
   "execution_count": 3,
   "metadata": {},
   "outputs": [],
   "source": [
    "def backtracking(board: list, history: list, stats: spu.SudokuStats, config: SudokuConfig):\n",
    "    \"\"\"\n",
    "    Solves a 9x9 sudoku puzzle using backtracking algorithm.\n",
    "    Arguments:\n",
    "        board: the 9x9 puzzle to be solved.\n",
    "        stats: The statistics object to record algorithm.\n",
    "        searchMode: defines how the puzzle is parsed: 1 by row; 2 by col; 3 by box sequentially; 4 by box in a zig-zag; 5 by box in a spiral; 6 by box in a semi-zig-zag\n",
    "        guessMode: defines how numbers are guessed: 1 sequentially; 2 randomly\n",
    "    \"\"\"\n",
    "    # Find the next empty cell\n",
    "    find = ssa.findEmpty(board, config.searchMode)\n",
    "\n",
    "    # If there is no empty cell than puzzle is complete\n",
    "    if not find:\n",
    "        return True\n",
    "    else:\n",
    "        row, col = find\n",
    "\n",
    "    # Get numbers to guess and attempt\n",
    "    for guess in sga.getGuesses(board, config.guessMode):\n",
    "        if spu.isValid(board, guess, (row, col)):\n",
    "\n",
    "            # Brute force guess\n",
    "            stats.incrementGuesses()\n",
    "            board[row][col] = guess\n",
    "\n",
    "            if config.tracking:\n",
    "                history.append(spu.toStr(board))\n",
    "\n",
    "            # Attempt to solve rest of puzzle with current choice\n",
    "            if backtracking(board, history, stats, config):\n",
    "                return True\n",
    "\n",
    "            # Invalid puzzle so backtrack\n",
    "            if (config.tracking):\n",
    "                history.remove(spu.toStr(board))\n",
    "            stats.incrementBacktracks()\n",
    "            board[row][col] = 0\n",
    "\n",
    "    return False"
   ]
  },
  {
   "cell_type": "code",
   "execution_count": 4,
   "metadata": {},
   "outputs": [
    {
     "data": {
      "text/plain": [
       "[[1, 0, 0, 0, 0, 8, 5, 0, 9],\n",
       " [0, 0, 0, 0, 0, 0, 0, 0, 0],\n",
       " [4, 6, 0, 0, 0, 0, 0, 0, 0],\n",
       " [6, 0, 0, 0, 0, 0, 0, 0, 0],\n",
       " [0, 8, 5, 0, 2, 0, 0, 4, 7],\n",
       " [0, 9, 4, 6, 0, 0, 3, 0, 2],\n",
       " [0, 0, 0, 0, 0, 3, 0, 9, 0],\n",
       " [9, 2, 0, 0, 0, 0, 7, 0, 0],\n",
       " [0, 0, 0, 1, 0, 7, 0, 0, 5]]"
      ]
     },
     "execution_count": 4,
     "metadata": {},
     "output_type": "execute_result"
    }
   ],
   "source": [
    "board = spu.to2DArray('100008509000000000460000000600000000085020047094600302000003090920000700000107005')\n",
    "board"
   ]
  },
  {
   "cell_type": "code",
   "execution_count": 5,
   "metadata": {},
   "outputs": [
    {
     "data": {
      "text/plain": [
       "15.410962100024335"
      ]
     },
     "execution_count": 5,
     "metadata": {},
     "output_type": "execute_result"
    }
   ],
   "source": [
    "import timeit\n",
    "\n",
    "history = []\n",
    "stats = spu.SudokuStats()\n",
    "config = SudokuConfig(searchMode=1, guessMode=1, tracking=True)\n",
    "\n",
    "timeit.timeit(lambda:backtracking(board, history, stats, config), number=10000)"
   ]
  },
  {
   "cell_type": "code",
   "execution_count": 6,
   "metadata": {},
   "outputs": [
    {
     "data": {
      "text/plain": [
       "[[1, 3, 7, 4, 6, 8, 5, 2, 9],\n",
       " [2, 5, 8, 3, 1, 9, 4, 7, 6],\n",
       " [4, 6, 9, 5, 7, 2, 1, 8, 3],\n",
       " [6, 1, 2, 7, 3, 4, 9, 5, 8],\n",
       " [3, 8, 5, 9, 2, 1, 6, 4, 7],\n",
       " [7, 9, 4, 6, 8, 5, 3, 1, 2],\n",
       " [5, 7, 6, 2, 4, 3, 8, 9, 1],\n",
       " [9, 2, 1, 8, 5, 6, 7, 3, 4],\n",
       " [8, 4, 3, 1, 9, 7, 2, 6, 5]]"
      ]
     },
     "execution_count": 6,
     "metadata": {},
     "output_type": "execute_result"
    }
   ],
   "source": [
    "board"
   ]
  },
  {
   "cell_type": "code",
   "execution_count": 7,
   "metadata": {},
   "outputs": [
    {
     "data": {
      "text/plain": [
       "['130008509000000000460000000600000000085020047094600302000003090920000700000107005',\n",
       " '137008509000000000460000000600000000085020047094600302000003090920000700000107005',\n",
       " '137408509000000000460000000600000000085020047094600302000003090920000700000107005',\n",
       " '137468509000000000460000000600000000085020047094600302000003090920000700000107005',\n",
       " '137468529000000000460000000600000000085020047094600302000003090920000700000107005',\n",
       " '137468529200000000460000000600000000085020047094600302000003090920000700000107005',\n",
       " '137468529250000000460000000600000000085020047094600302000003090920000700000107005',\n",
       " '137468529258000000460000000600000000085020047094600302000003090920000700000107005',\n",
       " '137468529258300000460000000600000000085020047094600302000003090920000700000107005',\n",
       " '137468529258310000460000000600000000085020047094600302000003090920000700000107005',\n",
       " '137468529258319000460000000600000000085020047094600302000003090920000700000107005',\n",
       " '137468529258319400460000000600000000085020047094600302000003090920000700000107005',\n",
       " '137468529258319470460000000600000000085020047094600302000003090920000700000107005',\n",
       " '137468529258319476460000000600000000085020047094600302000003090920000700000107005',\n",
       " '137468529258319476469000000600000000085020047094600302000003090920000700000107005',\n",
       " '137468529258319476469500000600000000085020047094600302000003090920000700000107005',\n",
       " '137468529258319476469570000600000000085020047094600302000003090920000700000107005',\n",
       " '137468529258319476469572000600000000085020047094600302000003090920000700000107005',\n",
       " '137468529258319476469572100600000000085020047094600302000003090920000700000107005',\n",
       " '137468529258319476469572180600000000085020047094600302000003090920000700000107005',\n",
       " '137468529258319476469572183600000000085020047094600302000003090920000700000107005',\n",
       " '137468529258319476469572183610000000085020047094600302000003090920000700000107005',\n",
       " '137468529258319476469572183612000000085020047094600302000003090920000700000107005',\n",
       " '137468529258319476469572183612700000085020047094600302000003090920000700000107005',\n",
       " '137468529258319476469572183612730000085020047094600302000003090920000700000107005',\n",
       " '137468529258319476469572183612734000085020047094600302000003090920000700000107005',\n",
       " '137468529258319476469572183612734900085020047094600302000003090920000700000107005',\n",
       " '137468529258319476469572183612734950085020047094600302000003090920000700000107005',\n",
       " '137468529258319476469572183612734958085020047094600302000003090920000700000107005',\n",
       " '137468529258319476469572183612734958385020047094600302000003090920000700000107005',\n",
       " '137468529258319476469572183612734958385920047094600302000003090920000700000107005',\n",
       " '137468529258319476469572183612734958385921047094600302000003090920000700000107005',\n",
       " '137468529258319476469572183612734958385921647094600302000003090920000700000107005',\n",
       " '137468529258319476469572183612734958385921647794600302000003090920000700000107005',\n",
       " '137468529258319476469572183612734958385921647794680302000003090920000700000107005',\n",
       " '137468529258319476469572183612734958385921647794685302000003090920000700000107005',\n",
       " '137468529258319476469572183612734958385921647794685312000003090920000700000107005',\n",
       " '137468529258319476469572183612734958385921647794685312500003090920000700000107005',\n",
       " '137468529258319476469572183612734958385921647794685312570003090920000700000107005',\n",
       " '137468529258319476469572183612734958385921647794685312576003090920000700000107005',\n",
       " '137468529258319476469572183612734958385921647794685312576203090920000700000107005',\n",
       " '137468529258319476469572183612734958385921647794685312576243090920000700000107005',\n",
       " '137468529258319476469572183612734958385921647794685312576243890920000700000107005',\n",
       " '137468529258319476469572183612734958385921647794685312576243891920000700000107005',\n",
       " '137468529258319476469572183612734958385921647794685312576243891921000700000107005',\n",
       " '137468529258319476469572183612734958385921647794685312576243891921800700000107005',\n",
       " '137468529258319476469572183612734958385921647794685312576243891921850700000107005',\n",
       " '137468529258319476469572183612734958385921647794685312576243891921856700000107005',\n",
       " '137468529258319476469572183612734958385921647794685312576243891921856730000107005',\n",
       " '137468529258319476469572183612734958385921647794685312576243891921856734000107005',\n",
       " '137468529258319476469572183612734958385921647794685312576243891921856734800107005',\n",
       " '137468529258319476469572183612734958385921647794685312576243891921856734840107005',\n",
       " '137468529258319476469572183612734958385921647794685312576243891921856734843107005',\n",
       " '137468529258319476469572183612734958385921647794685312576243891921856734843197005',\n",
       " '137468529258319476469572183612734958385921647794685312576243891921856734843197205',\n",
       " '137468529258319476469572183612734958385921647794685312576243891921856734843197265']"
      ]
     },
     "execution_count": 7,
     "metadata": {},
     "output_type": "execute_result"
    }
   ],
   "source": [
    "history"
   ]
  },
  {
   "cell_type": "code",
   "execution_count": 8,
   "metadata": {},
   "outputs": [
    {
     "name": "stdout",
     "output_type": "stream",
     "text": [
      "130008509000000000460000000600000000085020047094600302000003090920000700000107005\n"
     ]
    }
   ],
   "source": [
    "for i in range(len(history)):\n",
    "    print(history[i])\n",
    "    break"
   ]
  },
  {
   "cell_type": "code",
   "execution_count": 9,
   "metadata": {},
   "outputs": [],
   "source": [
    "def generatePuzzle(count: int, zeros: int):\n",
    "    \"\"\"\n",
    "    Generates a 9x9 sudoku puzzle grid.\n",
    "    Arguments:\n",
    "        count: the number of puzzles to generate.\n",
    "        zeros: the number of zeros to inject in the puzzles.\n",
    "    \"\"\"\n",
    "    import random\n",
    "\n",
    "    puzzles = []\n",
    "    for i in range(count):\n",
    "        puzzle = '000000000000000000000000000000000000000000000000000000000000000000000000000000000'\n",
    "\n",
    "        board = spu.to2DArray(puzzle)\n",
    "        stats = spu.SudokuStats()\n",
    "        stats.setUnknowns(puzzle.count('0'))\n",
    "        config = SudokuConfig(searchMode=9, guessMode=2, tracking=False)\n",
    "        backtracking(board, None, stats, config)\n",
    "\n",
    "        # Remove digits\n",
    "        changed = 0\n",
    "        while changed < zeros:\n",
    "            row = random.sample(range(0,9),1)[0]\n",
    "            col = random.sample(range(0,9),1)[0]\n",
    "            \n",
    "            if board[row][col]==0:\n",
    "                continue\n",
    "\n",
    "            board[row][col]=0\n",
    "            changed+=1\n",
    "            \n",
    "        puzzles.append(spu.toStr(board))\n",
    "\n",
    "    return puzzles\n",
    "    "
   ]
  },
  {
   "cell_type": "code",
   "execution_count": 10,
   "metadata": {},
   "outputs": [
    {
     "data": {
      "text/plain": [
       "['000105000060000000002046900805000003029500670000000000108000307600791005250000100',\n",
       " '000000805400500000089006020020060304000000000000207100005602940000340010004805002']"
      ]
     },
     "execution_count": 10,
     "metadata": {},
     "output_type": "execute_result"
    }
   ],
   "source": [
    "generatePuzzle(2,54)"
   ]
  },
  {
   "cell_type": "code",
   "execution_count": 33,
   "metadata": {},
   "outputs": [],
   "source": [
    "# Generate balanced dataset of 50 puzzles for different number of missing digits\n",
    "with open(\"balanced_24_45_zeros.txt\", \"w\", encoding=\"utf-8\") as f:\n",
    "    for i in range(24,46):\n",
    "        puzzles = generatePuzzle(50,i)\n",
    "\n",
    "        for j in range(len(puzzles)):\n",
    "            f.write(\"{}\\n\".format(spu.toStr(puzzles[j])))\n"
   ]
  }
 ],
 "metadata": {
  "kernelspec": {
   "display_name": "sudoku",
   "language": "python",
   "name": "python3"
  },
  "language_info": {
   "codemirror_mode": {
    "name": "ipython",
    "version": 3
   },
   "file_extension": ".py",
   "mimetype": "text/x-python",
   "name": "python",
   "nbconvert_exporter": "python",
   "pygments_lexer": "ipython3",
   "version": "3.10.8"
  },
  "orig_nbformat": 4,
  "vscode": {
   "interpreter": {
    "hash": "615e879b812eb291a647d5ad8660ec074c290f753c91a47ae0e19b40ce7bb72e"
   }
  }
 },
 "nbformat": 4,
 "nbformat_minor": 2
}
