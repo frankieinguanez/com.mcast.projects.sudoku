{
 "cells": [
  {
   "attachments": {},
   "cell_type": "markdown",
   "metadata": {},
   "source": [
    "# Sudoku solver with statistics\n",
    "\n",
    "Author: Frankie Inguanez <br />\n",
    "Date: 15/01/2023<br /><br />\n",
    "\n",
    "An backtracking algorithm for a 9x9 sudoku puzzle taking."
   ]
  },
  {
   "cell_type": "code",
   "execution_count": 1,
   "metadata": {},
   "outputs": [],
   "source": [
    "import sudokuSearchAlg as ssa\n",
    "import sudokuGuessAlg as sga\n",
    "import sudokuPuzzleUtils as spu"
   ]
  },
  {
   "cell_type": "code",
   "execution_count": 2,
   "metadata": {},
   "outputs": [],
   "source": [
    "class SudokuStats:\n",
    "    def __init__(self):\n",
    "        self.guesses = 0\n",
    "        self.backtracks = 0\n",
    "        self.startTime = None\n",
    "        self.endTime = None\n",
    "\n",
    "    def incrementGuesses(self):\n",
    "        self.guesses += 1\n",
    "\n",
    "    def incrementBacktracks(self):\n",
    "        self.backtracks += 1\n",
    "\n",
    "    def registerStartTime(self):\n",
    "        import time\n",
    "\n",
    "        self.startTime = time.time()\n",
    "\n",
    "    def registerEndTime(self):\n",
    "        import time\n",
    "\n",
    "        self.endTime = time.time()\n",
    "\n",
    "    def guesses(self):\n",
    "        return self.guesses\n",
    "\n",
    "    def backtracks(self):\n",
    "        return self.backtracks\n",
    "\n",
    "    def executionTime(self):\n",
    "        return self.endTime-self.startTime"
   ]
  },
  {
   "cell_type": "code",
   "execution_count": 3,
   "metadata": {},
   "outputs": [],
   "source": [
    "def backtracking(board, stats: SudokuStats, searchMode: int, guessMode: int):\n",
    "    \"\"\"\n",
    "    Solves a 9x9 sudoku puzzle using backtracking algorithm.\n",
    "    Arguments:\n",
    "        board: the 9x9 puzzle to be solved.\n",
    "        stats: The statistics object to record algorithm.\n",
    "        searchMode: defines how the puzzle is parsed: 1 by row; 2 by col; 3 by box sequentially; 4 by box in a zig-zag; 5 by box in a spiral; 6 by box in a semi-zig-zag\n",
    "        guessMode: defines how numbers are guessed: 1 sequentially; 2 randomly\n",
    "    \"\"\"\n",
    "    # Find the next empty cell\n",
    "    find = ssa.findEmpty(board, searchMode)\n",
    "\n",
    "    # If there is no empty cell than puzzle is complete\n",
    "    if not find:\n",
    "        stats.registerEndTime()\n",
    "        return True\n",
    "    else:\n",
    "        row, col = find\n",
    "\n",
    "    # Get numbers to guess and attempt\n",
    "    for guess in sga.getGuesses(board, guessMode):\n",
    "        if spu.isValid(board, guess, (row, col)):\n",
    "\n",
    "            # Brute force guess\n",
    "            stats.incrementGuesses()\n",
    "            board[row][col] = guess\n",
    "\n",
    "            # Attempt to solve rest of puzzle with current choice\n",
    "            if backtracking(board, stats, searchMode, guessMode):\n",
    "                return True\n",
    "\n",
    "            # Invalid puzzle so backtrack\n",
    "            stats.incrementBacktracks()\n",
    "            board[row][col] = 0\n",
    "\n",
    "    return False"
   ]
  },
  {
   "cell_type": "code",
   "execution_count": 4,
   "metadata": {},
   "outputs": [
    {
     "data": {
      "text/plain": [
       "[[1, 0, 0, 0, 0, 8, 5, 0, 9],\n",
       " [0, 0, 0, 0, 0, 0, 0, 0, 0],\n",
       " [4, 6, 0, 0, 0, 0, 0, 0, 0],\n",
       " [6, 0, 0, 0, 0, 0, 0, 0, 0],\n",
       " [0, 8, 5, 0, 2, 0, 0, 4, 7],\n",
       " [0, 9, 4, 6, 0, 0, 3, 0, 2],\n",
       " [0, 0, 0, 0, 0, 3, 0, 9, 0],\n",
       " [9, 2, 0, 0, 0, 0, 7, 0, 0],\n",
       " [0, 0, 0, 1, 0, 7, 0, 0, 5]]"
      ]
     },
     "execution_count": 4,
     "metadata": {},
     "output_type": "execute_result"
    }
   ],
   "source": [
    "board = spu.to2DArray('100008509000000000460000000600000000085020047094600302000003090920000700000107005')\n",
    "board"
   ]
  },
  {
   "cell_type": "code",
   "execution_count": 5,
   "metadata": {},
   "outputs": [
    {
     "data": {
      "text/plain": [
       "(4, 5)"
      ]
     },
     "execution_count": 5,
     "metadata": {},
     "output_type": "execute_result"
    }
   ],
   "source": [
    "ssa.findRandom(board)"
   ]
  },
  {
   "cell_type": "code",
   "execution_count": 6,
   "metadata": {},
   "outputs": [
    {
     "name": "stdout",
     "output_type": "stream",
     "text": [
      "Solved puzzle!\n"
     ]
    },
    {
     "data": {
      "text/plain": [
       "[[1, 3, 7, 4, 6, 8, 5, 2, 9],\n",
       " [2, 5, 8, 3, 1, 9, 4, 7, 6],\n",
       " [4, 6, 9, 5, 7, 2, 1, 8, 3],\n",
       " [6, 1, 2, 7, 3, 4, 9, 5, 8],\n",
       " [3, 8, 5, 9, 2, 1, 6, 4, 7],\n",
       " [7, 9, 4, 6, 8, 5, 3, 1, 2],\n",
       " [5, 7, 6, 2, 4, 3, 8, 9, 1],\n",
       " [9, 2, 1, 8, 5, 6, 7, 3, 4],\n",
       " [8, 4, 3, 1, 9, 7, 2, 6, 5]]"
      ]
     },
     "execution_count": 6,
     "metadata": {},
     "output_type": "execute_result"
    }
   ],
   "source": [
    "# Register the start time\n",
    "stats = SudokuStats()\n",
    "stats.registerStartTime()\n",
    "print(\"Solved puzzle!\" if backtracking(board, stats, 6, 1) else \"Could not solve puzzle\")\n",
    "stats.registerEndTime()\n",
    "\n",
    "board"
   ]
  },
  {
   "cell_type": "code",
   "execution_count": 7,
   "metadata": {},
   "outputs": [
    {
     "data": {
      "text/plain": [
       "0.7237107753753662"
      ]
     },
     "execution_count": 7,
     "metadata": {},
     "output_type": "execute_result"
    }
   ],
   "source": [
    "stats.executionTime()"
   ]
  },
  {
   "cell_type": "code",
   "execution_count": 8,
   "metadata": {},
   "outputs": [
    {
     "data": {
      "text/plain": [
       "61038"
      ]
     },
     "execution_count": 8,
     "metadata": {},
     "output_type": "execute_result"
    }
   ],
   "source": [
    "stats.backtracks"
   ]
  },
  {
   "cell_type": "code",
   "execution_count": 9,
   "metadata": {},
   "outputs": [
    {
     "data": {
      "text/plain": [
       "61094"
      ]
     },
     "execution_count": 9,
     "metadata": {},
     "output_type": "execute_result"
    }
   ],
   "source": [
    "stats.guesses"
   ]
  },
  {
   "cell_type": "code",
   "execution_count": 10,
   "metadata": {},
   "outputs": [],
   "source": [
    "def solvePuzzles(puzzlesFileName, statsFileName, errorsFileName, limit, searchMode, guessMode):\n",
    "    \"\"\"\n",
    "    Solves puzzles found in a file using backtracking algorithm.\n",
    "    Arguments:\n",
    "        puzzlesFileName: file containing puzzles in following format: <id>, <puzzle>, <solution>\n",
    "        statsFileName: file where statistics shall be saved.\n",
    "        errorsFileName: file where errors shall be saved.\n",
    "        limit: the limit number of puzzles to solve.\n",
    "        searchMode: defines how missing values are searched.\n",
    "        guessMode: defines how guesses are made.\n",
    "    \"\"\"\n",
    "    import tqdm\n",
    "\n",
    "    if not limit:\n",
    "        limit = spu.getFileLineCount(puzzlesFileName)\n",
    "\n",
    "    i = 1\n",
    "    hasError = False\n",
    "    try:\n",
    "        print(\"Starting sudoku base solver.\")\n",
    "        \n",
    "        with open(statsFileName, \"w\", encoding=\"utf-8\") as sf:\n",
    "            with open(puzzlesFileName, \"r\", encoding=\"utf-8\") as pf:\n",
    "                for line in tqdm.tqdm(pf, total=limit):\n",
    "                    # Stop at limit\n",
    "                    if (i>limit):\n",
    "                        break\n",
    "                    \n",
    "                    # Parse the content\n",
    "                    data = line.split(',')\n",
    "                    p = data[1].strip()\n",
    "\n",
    "                    # Create board and statistics\n",
    "                    board = spu.to2DArray(p)\n",
    "                    stats = SudokuStats();\n",
    "\n",
    "                    # Start statistics gathering and solve\n",
    "                    stats.registerStartTime()\n",
    "                    backtracking(board, stats, searchMode, guessMode)\n",
    "                    stats.registerEndTime()\n",
    "                        \n",
    "                    # Write statistics\n",
    "                    sf.write(\"{},{},{:0.22f},{:0.0f},{:0.0f}\\n\".format(p, spu.toStr(board), stats.executionTime(), stats.guesses, stats.backtracks))\n",
    "                    i+=1\n",
    "\n",
    "    except Exception as e:\n",
    "        hasError = True\n",
    "        spu.saveError(e, errorsFileName)\n",
    "\n",
    "    print(\"Operation encountered some errors. Check {} for details or script output above.\".format(errorsFileName) \\\n",
    "        if hasError else \"Sudoku puzzles solved completed successfully.\")\n",
    "    print(\"Sudoku solver statistics saved in {}\".format(statsFileName))"
   ]
  },
  {
   "cell_type": "code",
   "execution_count": 11,
   "metadata": {},
   "outputs": [
    {
     "name": "stdout",
     "output_type": "stream",
     "text": [
      "Starting sudoku base solver.\n"
     ]
    },
    {
     "name": "stderr",
     "output_type": "stream",
     "text": [
      "100%|██████████| 10/10 [00:01<00:00,  7.57it/s]"
     ]
    },
    {
     "name": "stdout",
     "output_type": "stream",
     "text": [
      "Sudoku puzzles solved completed successfully.\n",
      "Sudoku solver statistics saved in backtracking.csv\n"
     ]
    },
    {
     "name": "stderr",
     "output_type": "stream",
     "text": [
      "\n"
     ]
    }
   ],
   "source": [
    "solvePuzzles(\"sudokuDataset.csv\",\"backtracking.csv\", \"backtrackingErrors.txt\", 10, 7, 1)"
   ]
  }
 ],
 "metadata": {
  "kernelspec": {
   "display_name": "sudoku",
   "language": "python",
   "name": "python3"
  },
  "language_info": {
   "codemirror_mode": {
    "name": "ipython",
    "version": 3
   },
   "file_extension": ".py",
   "mimetype": "text/x-python",
   "name": "python",
   "nbconvert_exporter": "python",
   "pygments_lexer": "ipython3",
   "version": "3.10.9"
  },
  "orig_nbformat": 4,
  "vscode": {
   "interpreter": {
    "hash": "1fa4100ae67b3ce4a33c20afdbe5cffef15defc525c61da60f3d0ff851893932"
   }
  }
 },
 "nbformat": 4,
 "nbformat_minor": 2
}
