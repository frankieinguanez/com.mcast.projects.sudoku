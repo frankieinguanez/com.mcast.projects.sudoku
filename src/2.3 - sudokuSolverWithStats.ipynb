{
 "cells": [
  {
   "attachments": {},
   "cell_type": "markdown",
   "metadata": {},
   "source": [
    "# Sudoku solver with statistics\n",
    "\n",
    "Author: Frankie Inguanez <br />\n",
    "Date: 15/01/2023<br /><br />\n",
    "\n",
    "An backtracking algorithm for a 9x9 sudoku puzzle taking."
   ]
  },
  {
   "cell_type": "code",
   "execution_count": 93,
   "metadata": {},
   "outputs": [],
   "source": [
    "import sudokuSearchAlg as ssa\n",
    "import sudokuGuessAlg as sga\n",
    "import sudokuPuzzleUtils as spu"
   ]
  },
  {
   "cell_type": "code",
   "execution_count": 94,
   "metadata": {},
   "outputs": [],
   "source": [
    "class SudokuExecutor:\n",
    "    def __init__(self, puzzlesFileName: str, statsFileName: str, errorsFileName: str, limit: int):\n",
    "        self.puzzlesFileName=puzzlesFileName\n",
    "        self.statsFileName=statsFileName\n",
    "        self.errorsFileName=errorsFileName\n",
    "        self.limit=limit"
   ]
  },
  {
   "cell_type": "code",
   "execution_count": 95,
   "metadata": {},
   "outputs": [],
   "source": [
    "class SudokuConfig:\n",
    "    def __init__(self, searchMode: int, guessMode: int):\n",
    "        self.searchMode=searchMode\n",
    "        self.guessMode=guessMode"
   ]
  },
  {
   "cell_type": "code",
   "execution_count": 96,
   "metadata": {},
   "outputs": [],
   "source": [
    "class SudokuStats:\n",
    "    def __init__(self):\n",
    "        self.guesses = 0\n",
    "        self.backtracks = 0\n",
    "        self.executionTime = None\n",
    "        self.unknowns = None\n",
    "\n",
    "    def incrementGuesses(self):\n",
    "        self.guesses += 1\n",
    "\n",
    "    def incrementBacktracks(self):\n",
    "        self.backtracks += 1\n",
    "\n",
    "    def registerExecutionTime(self, executionTime):\n",
    "        self.executionTime=executionTime\n",
    "\n",
    "    def setUnknowns(self, zeros:int):\n",
    "        self.unknowns=zeros"
   ]
  },
  {
   "cell_type": "code",
   "execution_count": 97,
   "metadata": {},
   "outputs": [],
   "source": [
    "def backtracking(board, stats: SudokuStats, config: SudokuConfig):\n",
    "    \"\"\"\n",
    "    Solves a 9x9 sudoku puzzle using backtracking algorithm.\n",
    "    Arguments:\n",
    "        board: the 9x9 puzzle to be solved.\n",
    "        stats: The statistics object to record algorithm.\n",
    "        searchMode: defines how the puzzle is parsed: 1 by row; 2 by col; 3 by box sequentially; 4 by box in a zig-zag; 5 by box in a spiral; 6 by box in a semi-zig-zag\n",
    "        guessMode: defines how numbers are guessed: 1 sequentially; 2 randomly\n",
    "    \"\"\"\n",
    "    # Find the next empty cell\n",
    "    find = ssa.findEmpty(board, config.searchMode)\n",
    "\n",
    "    # If there is no empty cell than puzzle is complete\n",
    "    if not find:\n",
    "        return True\n",
    "    else:\n",
    "        row, col = find\n",
    "\n",
    "    # Get numbers to guess and attempt\n",
    "    for guess in sga.getGuesses(board, config.guessMode):\n",
    "        if spu.isValid(board, guess, (row, col)):\n",
    "\n",
    "            # Brute force guess\n",
    "            stats.incrementGuesses()\n",
    "            board[row][col] = guess\n",
    "\n",
    "            # Attempt to solve rest of puzzle with current choice\n",
    "            if backtracking(board, stats, config):\n",
    "                return True\n",
    "\n",
    "            # Invalid puzzle so backtrack\n",
    "            stats.incrementBacktracks()\n",
    "            board[row][col] = 0\n",
    "\n",
    "    return False"
   ]
  },
  {
   "cell_type": "code",
   "execution_count": 113,
   "metadata": {},
   "outputs": [
    {
     "data": {
      "text/plain": [
       "[[1, 0, 0, 0, 0, 8, 5, 0, 9],\n",
       " [0, 0, 0, 0, 0, 0, 0, 0, 0],\n",
       " [4, 6, 0, 0, 0, 0, 0, 0, 0],\n",
       " [6, 0, 0, 0, 0, 0, 0, 0, 0],\n",
       " [0, 8, 5, 0, 2, 0, 0, 4, 7],\n",
       " [0, 9, 4, 6, 0, 0, 3, 0, 2],\n",
       " [0, 0, 0, 0, 0, 3, 0, 9, 0],\n",
       " [9, 2, 0, 0, 0, 0, 7, 0, 0],\n",
       " [0, 0, 0, 1, 0, 7, 0, 0, 5]]"
      ]
     },
     "execution_count": 113,
     "metadata": {},
     "output_type": "execute_result"
    }
   ],
   "source": [
    "board = spu.to2DArray('100008509000000000460000000600000000085020047094600302000003090920000700000107005')\n",
    "board"
   ]
  },
  {
   "cell_type": "code",
   "execution_count": 114,
   "metadata": {},
   "outputs": [
    {
     "name": "stdout",
     "output_type": "stream",
     "text": [
      "Solved puzzle!\n"
     ]
    }
   ],
   "source": [
    "# Register the start time\n",
    "config = SudokuConfig(searchMode=6, guessMode=1)\n",
    "\n",
    "print(\"Solved puzzle!\" if backtracking(board, SudokuStats(), config) else \"Could not solve puzzle\")"
   ]
  },
  {
   "cell_type": "code",
   "execution_count": 115,
   "metadata": {},
   "outputs": [
    {
     "data": {
      "text/plain": [
       "0.9082337000290863"
      ]
     },
     "execution_count": 115,
     "metadata": {},
     "output_type": "execute_result"
    }
   ],
   "source": [
    "import timeit\n",
    "\n",
    "stats = SudokuStats()\n",
    "\n",
    "timeit.timeit(lambda: backtracking(board, stats, config), number=100000)"
   ]
  },
  {
   "cell_type": "code",
   "execution_count": 116,
   "metadata": {},
   "outputs": [],
   "source": [
    "stats = SudokuStats()\n",
    "stats.registerExecutionTime(timeit.timeit(lambda: backtracking(board, stats, config), number=100000))"
   ]
  },
  {
   "cell_type": "code",
   "execution_count": 119,
   "metadata": {},
   "outputs": [],
   "source": [
    "def solvePuzzles(executor: SudokuExecutor, config: SudokuConfig):\n",
    "    \"\"\"\n",
    "    Solves puzzles found in a file using backtracking algorithm.\n",
    "    Arguments:\n",
    "        puzzlesFileName: file containing puzzles in following format: <id>, <puzzle>, <solution>\n",
    "        statsFileName: file where statistics shall be saved.\n",
    "        errorsFileName: file where errors shall be saved.\n",
    "        limit: the limit number of puzzles to solve.\n",
    "        searchMode: defines how missing values are searched.\n",
    "        guessMode: defines how guesses are made.\n",
    "    \"\"\"\n",
    "    import tqdm\n",
    "    import timeit\n",
    "\n",
    "    if not executor.limit:\n",
    "        limit = spu.getFileLineCount(executor.puzzlesFileName)\n",
    "    else: limit = executor.limit\n",
    "\n",
    "    i = 1\n",
    "    hasError = False\n",
    "    try:\n",
    "        print(\"Starting sudoku base solver.\")\n",
    "        \n",
    "        # Open statistics file\n",
    "        with open(executor.statsFileName, \"w\", encoding=\"utf-8\") as sf:\n",
    "            #Write header row\n",
    "            sf.write(\"Puzzle,Solution,Execution Time,Zeros,Guesses,Backtracks\\n\")\n",
    "\n",
    "            # Open puzzles and read till limit is reached.\n",
    "            with open(executor.puzzlesFileName, \"r\", encoding=\"utf-8\") as pf:\n",
    "                for line in tqdm.tqdm(pf, total=limit):\n",
    "                    # Stop at limit\n",
    "                    if (i>limit):\n",
    "                        break\n",
    "                    \n",
    "                    # Parse the content\n",
    "                    data = line.split(',')\n",
    "                    p = data[1].strip()\n",
    "\n",
    "                    # Create board and statistics\n",
    "                    board = spu.to2DArray(p)\n",
    "                    \n",
    "                    stats = SudokuStats();\n",
    "                    stats.setUnknowns(p.count('0'))\n",
    "                    stats.registerExecutionTime(timeit.timeit(lambda: backtracking(board, stats, config), number=100000))                   \n",
    "                        \n",
    "                    # Write statistics\n",
    "                    sf.write(\"{},{},{:0.17f},{:0.0f},{:0.0f},{:0.0f}\\n\".format(p, spu.toStr(board), stats.executionTime, stats.unknowns, stats.guesses, stats.backtracks))\n",
    "                    i+=1\n",
    "\n",
    "    except Exception as e:\n",
    "        hasError = True\n",
    "        spu.saveError(e, executor.errorsFileName)\n",
    "\n",
    "    print(\"Operation encountered some errors. Check {} for details or script output above.\".format(executor.errorsFileName) \\\n",
    "        if hasError else \"Sudoku puzzles solved completed successfully.\")\n",
    "    print(\"Sudoku solver statistics saved in {}\".format(executor.statsFileName))"
   ]
  },
  {
   "cell_type": "code",
   "execution_count": 120,
   "metadata": {},
   "outputs": [
    {
     "name": "stdout",
     "output_type": "stream",
     "text": [
      "Starting sudoku base solver.\n"
     ]
    },
    {
     "name": "stderr",
     "output_type": "stream",
     "text": [
      "100%|██████████| 10/10 [00:04<00:00,  2.27it/s]"
     ]
    },
    {
     "name": "stdout",
     "output_type": "stream",
     "text": [
      "Sudoku puzzles solved completed successfully.\n",
      "Sudoku solver statistics saved in backtracking.csv\n"
     ]
    },
    {
     "name": "stderr",
     "output_type": "stream",
     "text": [
      "\n"
     ]
    }
   ],
   "source": [
    "config = SudokuConfig(searchMode=1, guessMode=1)\n",
    "exec = SudokuExecutor(puzzlesFileName=\"sudokuDataset.csv\",statsFileName=\"backtracking.csv\", errorsFileName=\"backtrackingErrors.txt\", limit=10)\n",
    "\n",
    "solvePuzzles(exec, config)"
   ]
  }
 ],
 "metadata": {
  "kernelspec": {
   "display_name": "sudoku",
   "language": "python",
   "name": "python3"
  },
  "language_info": {
   "codemirror_mode": {
    "name": "ipython",
    "version": 3
   },
   "file_extension": ".py",
   "mimetype": "text/x-python",
   "name": "python",
   "nbconvert_exporter": "python",
   "pygments_lexer": "ipython3",
   "version": "3.10.9"
  },
  "orig_nbformat": 4,
  "vscode": {
   "interpreter": {
    "hash": "1fa4100ae67b3ce4a33c20afdbe5cffef15defc525c61da60f3d0ff851893932"
   }
  }
 },
 "nbformat": 4,
 "nbformat_minor": 2
}
