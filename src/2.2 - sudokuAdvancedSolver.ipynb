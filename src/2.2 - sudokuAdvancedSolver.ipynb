{
 "cells": [
  {
   "attachments": {},
   "cell_type": "markdown",
   "metadata": {},
   "source": [
    "# Advanced implementation\n",
    "\n",
    "Author: Frankie Inguanez <br />\n",
    "Date: 13/01/2023<br /><br />\n",
    "\n",
    "An advanced implementation of a 9x9 sudoku puzzle taking inspiration for 3rd parties."
   ]
  },
  {
   "cell_type": "code",
   "execution_count": null,
   "metadata": {},
   "outputs": [],
   "source": [
    "# Finds the next next unknown value in a sudoku 9x9 puzzle in a raster pattern.\n",
    "def findEmptyRaster(puzzle):\n",
    "    for i in range(len(puzzle)):\n",
    "        for j in range(len(puzzle[0])):\n",
    "            if puzzle[i][j] == 0:\n",
    "                return (i, j)  # row, col\n",
    "    return None"
   ]
  },
  {
   "cell_type": "code",
   "execution_count": null,
   "metadata": {},
   "outputs": [],
   "source": [
    "# Finds the next next unknown value in a sudoku 9x9 puzzle in a spiral pattern.\n",
    "def findEmptySpiral(puzzle):\n",
    "    n = len(puzzle)\n",
    "    x, y = 0, 0\n",
    "    dx, dy = 0, 1\n",
    "    for i in range(n**2):\n",
    "        if puzzle[x][y] == 0:\n",
    "            return (x, y)\n",
    "        if x + dx < 0 or x + dx == n or y + dy < 0 or y + dy == n or puzzle[x+dx][y+dy] != 0:\n",
    "            dx, dy = dy, -dx\n",
    "        x += dx\n",
    "        y += dy\n",
    "    return None\n"
   ]
  },
  {
   "cell_type": "code",
   "execution_count": null,
   "metadata": {},
   "outputs": [],
   "source": [
    "def findEmpty(puzzle, method):\n",
    "    if method == 1:\n",
    "        return findEmptyRaster(puzzle)\n",
    "    elif method == 2:\n",
    "        return findEmptySpiral(puzzle)\n",
    "\n",
    "    raise ValueError(\"Unrecognized method {:0.0f} for find empty.\".format(method)) "
   ]
  }
 ],
 "metadata": {
  "kernelspec": {
   "display_name": "sudoku",
   "language": "python",
   "name": "python3"
  },
  "language_info": {
   "name": "python",
   "version": "3.10.9 (tags/v3.10.9:1dd9be6, Dec  6 2022, 20:01:21) [MSC v.1934 64 bit (AMD64)]"
  },
  "orig_nbformat": 4,
  "vscode": {
   "interpreter": {
    "hash": "1fa4100ae67b3ce4a33c20afdbe5cffef15defc525c61da60f3d0ff851893932"
   }
  }
 },
 "nbformat": 4,
 "nbformat_minor": 2
}
