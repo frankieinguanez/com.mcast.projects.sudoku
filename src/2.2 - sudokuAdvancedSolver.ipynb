{
 "cells": [
  {
   "attachments": {},
   "cell_type": "markdown",
   "metadata": {},
   "source": [
    "# Advanced implementation\n",
    "\n",
    "Author: Frankie Inguanez <br />\n",
    "Date: 13/01/2023<br /><br />\n",
    "\n",
    "An advanced implementation of a 9x9 sudoku puzzle taking inspiration for 3rd parties."
   ]
  },
  {
   "cell_type": "code",
   "execution_count": 38,
   "metadata": {},
   "outputs": [],
   "source": [
    "import sudokuPuzzleUtils as spu"
   ]
  },
  {
   "cell_type": "code",
   "execution_count": 39,
   "metadata": {},
   "outputs": [],
   "source": [
    "def findByRow(puzzle):\n",
    "    \"\"\"\n",
    "    Finds the next empty cell in a raster fashion, row by row.\n",
    "    Arguments:\n",
    "        puzzle: a 9x9 sudoku puzzle\n",
    "    \"\"\"\n",
    "    \n",
    "    for row in range(len(puzzle)):\n",
    "        for col in range(len(puzzle[0])):\n",
    "            if puzzle[row][col] == 0:\n",
    "                return (row, col)\n",
    "            \n",
    "    return None"
   ]
  },
  {
   "cell_type": "code",
   "execution_count": 40,
   "metadata": {},
   "outputs": [],
   "source": [
    "def findByCol(puzzle):\n",
    "    \"\"\"\n",
    "    Finds the next empty cell in a column order.\n",
    "    Arguments:\n",
    "        puzzle: a 9x9 sudoku puzzle\n",
    "    \"\"\"\n",
    "    for col in range(0,9):\n",
    "        for row in range(len(puzzle)):\n",
    "            if puzzle[row][col]==0:\n",
    "                return (row, col)\n",
    "    \n",
    "    return None"
   ]
  },
  {
   "cell_type": "code",
   "execution_count": 41,
   "metadata": {},
   "outputs": [],
   "source": [
    "def findByBox(puzzle, mode):\n",
    "    \"\"\"\n",
    "    Finds the next empty cell searching first by box then by row.\n",
    "    Arguments:\n",
    "        puzzle: a 9x9 sudoku puzzle\n",
    "        mode: 3 searches for boxes sequentially, 4 searches for boxes in a zig-zag fashion, 5 searches for boxes in spiral fashion, 6 searches for boxes in a semi zig-zag fashion.\n",
    "    \"\"\"\n",
    "\n",
    "    if mode==3:\n",
    "        boxes=range(0,9)\n",
    "    elif mode==4:\n",
    "        boxes=[0,1,2,5,4,3,6,7,8]\n",
    "    elif mode==5:\n",
    "        boxes=[0,1,2,5,8,7,6,3,4]\n",
    "    else:\n",
    "        boxes=[0,1,4,3,6,7,8,5,2]\n",
    "\n",
    "    for box in boxes:\n",
    "        for row in range((box//3)*3,((box//3)*3)+3):\n",
    "            for col in range((box%3)*3, ((box%3)*3)+3):\n",
    "                if puzzle[row][col]==0:\n",
    "                    return (row, col)\n",
    "\n",
    "    return None\n"
   ]
  },
  {
   "cell_type": "code",
   "execution_count": 42,
   "metadata": {},
   "outputs": [],
   "source": [
    "def findEmpty(puzzle, searchMode):\n",
    "    \"\"\"\n",
    "    Finds the next empty cell in a 9x9 sudoku puzzle.\n",
    "    Arguments:\n",
    "        puzzle: the 9x9 sudoku puzzle.\n",
    "        searchMode: defines how the puzzle is parsed: 1 by row; 2 by col; 3 by box sequentially; 4 by box in a zig-zag; 5 by box in a spiral; 6 by box in a semi-zig-zag\n",
    "    \"\"\"\n",
    "    if searchMode==1:\n",
    "        return findByRow(puzzle)\n",
    "    elif searchMode==2:\n",
    "        return findByCol(puzzle)\n",
    "    elif searchMode>=3 and searchMode<=6:\n",
    "        return findByBox(puzzle, searchMode)\n",
    "    \n",
    "    return None"
   ]
  },
  {
   "cell_type": "code",
   "execution_count": 43,
   "metadata": {},
   "outputs": [],
   "source": [
    "def getGuesses(puzzle, guessMode):\n",
    "    \"\"\"\n",
    "    Gets numbers to guess.\n",
    "    Arguments:\n",
    "        puzzle: the 9x9 sudoku puzzle.\n",
    "        guessMode: the guessing mode. 1 for sequential, 2 for random.\n",
    "    \"\"\"\n",
    "    import random\n",
    "\n",
    "    if guessMode==1:\n",
    "        return range(1,10)\n",
    "    elif guessMode==2:\n",
    "        return random.sample(range(1,10),9)\n",
    "\n",
    "    return None"
   ]
  },
  {
   "cell_type": "code",
   "execution_count": 44,
   "metadata": {},
   "outputs": [],
   "source": [
    "def backtracking(puzzle, searchMode, guessMode):\n",
    "    \"\"\"\n",
    "    Solves a 9x9 sudoku puzzle using backtracking algorithm.\n",
    "    Arguments:\n",
    "        puzzle: the 9x9 puzzle to be solved.\n",
    "        searchMode: defines how the puzzle is parsed: 1 by row; 2 by col; 3 by box sequentially; 4 by box in a zig-zag; 5 by box in a spiral; 6 by box in a semi-zig-zag\n",
    "        guessMode: defines how numbers are guessed: 1 sequentially; 2 randomly\n",
    "    \"\"\"\n",
    "\n",
    "    # Find the next empty cell\n",
    "    find = findEmpty(puzzle, searchMode)\n",
    "\n",
    "    # If there is no empty cell than puzzle is complete\n",
    "    if not find:\n",
    "        return True\n",
    "    else:\n",
    "        row, col = find\n",
    "\n",
    "    # Get numbers to guess and attempt\n",
    "    for guess in getGuesses(puzzle, guessMode):\n",
    "        if spu.isValid(puzzle, guess, (row, col)):\n",
    "            \n",
    "            # Brute force guess\n",
    "            puzzle[row][col] = guess\n",
    "\n",
    "            # Attempt to solve rest of puzzle with current choice\n",
    "            if backtracking(puzzle, searchMode, guessMode):\n",
    "                return True\n",
    "\n",
    "            # Invalid puzzle so backtrack\n",
    "            puzzle[row][col] = 0\n",
    "\n",
    "    return False"
   ]
  },
  {
   "cell_type": "code",
   "execution_count": 45,
   "metadata": {},
   "outputs": [
    {
     "name": "stdout",
     "output_type": "stream",
     "text": [
      "Solved puzzle!\n"
     ]
    },
    {
     "data": {
      "text/plain": [
       "[[1, 3, 7, 4, 6, 8, 5, 2, 9],\n",
       " [2, 5, 8, 3, 1, 9, 4, 7, 6],\n",
       " [4, 6, 9, 5, 7, 2, 1, 8, 3],\n",
       " [6, 1, 2, 7, 3, 4, 9, 5, 8],\n",
       " [3, 8, 5, 9, 2, 1, 6, 4, 7],\n",
       " [7, 9, 4, 6, 8, 5, 3, 1, 2],\n",
       " [5, 7, 6, 2, 4, 3, 8, 9, 1],\n",
       " [9, 2, 1, 8, 5, 6, 7, 3, 4],\n",
       " [8, 4, 3, 1, 9, 7, 2, 6, 5]]"
      ]
     },
     "execution_count": 45,
     "metadata": {},
     "output_type": "execute_result"
    }
   ],
   "source": [
    "puzzle = spu.to2DArray('100008509000000000460000000600000000085020047094600302000003090920000700000107005')\n",
    "\n",
    "print(\"Solved puzzle!\" if backtracking(puzzle,6,1) else \"Could not solve puzzle\")\n",
    "puzzle"
   ]
  },
  {
   "cell_type": "code",
   "execution_count": 46,
   "metadata": {},
   "outputs": [],
   "source": [
    "def solvePuzzles(puzzlesFileName, statsFileName, errorsFileName, limit, searchMode, guessMode):\n",
    "    \"\"\"\n",
    "    Solves puzzles found in a file using backtracking algorithm.\n",
    "    Arguments:\n",
    "        puzzlesFileName: file containing puzzles in following format: <id>, <puzzle>, <solution>\n",
    "        statsFileName: file where statistics shall be saved.\n",
    "        errorsFileName: file where errors shall be saved.\n",
    "        limit: the limit number of puzzles to solve.\n",
    "        searchMode: defines how missing values are searched.\n",
    "        guessMode: defines how guesses are made.\n",
    "    \"\"\"\n",
    "    import tqdm\n",
    "\n",
    "    if not limit:\n",
    "        limit = spu.getFileLineCount(puzzlesFileName)\n",
    "\n",
    "    i = 0\n",
    "    hasError = False\n",
    "    try:\n",
    "        print(\"Starting sudoku base solver.\")\n",
    "        \n",
    "        with open(statsFileName, \"w\", encoding=\"utf-8\") as sf:\n",
    "            with open(puzzlesFileName, \"r\", encoding=\"utf-8\") as pf:\n",
    "                for line in tqdm.tqdm(pf, total=limit):\n",
    "                    # Parse the content\n",
    "                    data = line.split(',')\n",
    "                    p = data[1].strip()\n",
    "\n",
    "                    puzzle = spu.to2DArray(p)\n",
    "\n",
    "                    if not backtracking(puzzle, searchMode, guessMode):\n",
    "                        sf.write(\"Could not solve puzzle {:0.0f}\".format(data[0]))\n",
    "\n",
    "                    i+=1\n",
    "\n",
    "                    if (i>limit):\n",
    "                        break\n",
    "\n",
    "    except Exception as e:\n",
    "        hasError = True\n",
    "        spu.saveError(e, errorsFileName)\n",
    "\n",
    "    print(\"Operation encountered some errors. Check {} for details or script output above.\".format(errorsFileName) \\\n",
    "        if hasError else \"Sudoku puzzles solved completed successfully.\")\n",
    "    print(\"Sudoku solver statistics saved in {}\".format(statsFileName))"
   ]
  },
  {
   "cell_type": "code",
   "execution_count": 55,
   "metadata": {},
   "outputs": [
    {
     "name": "stdout",
     "output_type": "stream",
     "text": [
      "Starting sudoku base solver.\n"
     ]
    },
    {
     "name": "stderr",
     "output_type": "stream",
     "text": [
      "100%|██████████| 2/2 [00:00<00:00, 391.95it/s]"
     ]
    },
    {
     "name": "stdout",
     "output_type": "stream",
     "text": [
      "Sudoku puzzles solved completed successfully.\n",
      "Sudoku solver statistics saved in solverStats.txt\n"
     ]
    },
    {
     "name": "stderr",
     "output_type": "stream",
     "text": [
      "\n"
     ]
    }
   ],
   "source": [
    "solvePuzzles(\"sudokuDataset.csv\",\"solverStats.txt\", \"solverErrors.txt\",2, 1, 2)"
   ]
  }
 ],
 "metadata": {
  "kernelspec": {
   "display_name": "sudoku",
   "language": "python",
   "name": "python3"
  },
  "language_info": {
   "codemirror_mode": {
    "name": "ipython",
    "version": 3
   },
   "file_extension": ".py",
   "mimetype": "text/x-python",
   "name": "python",
   "nbconvert_exporter": "python",
   "pygments_lexer": "ipython3",
   "version": "3.10.9"
  },
  "orig_nbformat": 4,
  "vscode": {
   "interpreter": {
    "hash": "1fa4100ae67b3ce4a33c20afdbe5cffef15defc525c61da60f3d0ff851893932"
   }
  }
 },
 "nbformat": 4,
 "nbformat_minor": 2
}
